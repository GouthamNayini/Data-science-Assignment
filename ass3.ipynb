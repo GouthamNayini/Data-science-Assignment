{
 "cells": [
  {
   "cell_type": "code",
   "execution_count": 4,
   "id": "133af279-c062-41a9-bc32-d44ebec2fb43",
   "metadata": {},
   "outputs": [
    {
     "data": {
      "text/plain": [
       "[1, 3, 5, 7, 9, 11, 13, 15, 17, 19, 21, 23]"
      ]
     },
     "execution_count": 4,
     "metadata": {},
     "output_type": "execute_result"
    }
   ],
   "source": [
    "\"\"\"Q1. Which keyword is used to create a function? Create a function to return a list of odd numbers in the\n",
    "range of 1 to 25.\"\"\"\n",
    "\"\"\" def function_name() is syntax for creating a function\"\"\"\n",
    "def odd(n):\n",
    "    l=[]\n",
    "    for i in range(n):\n",
    "        if i%2==0:\n",
    "            continue\n",
    "        else :\n",
    "          l.append(i)\n",
    "    return l\n",
    "odd(25)    "
   ]
  },
  {
   "cell_type": "code",
   "execution_count": 13,
   "id": "8d3dd74f-4a2d-4fcb-a4f1-7a4e6fb2c3d8",
   "metadata": {},
   "outputs": [
    {
     "data": {
      "text/plain": [
       "{'a': 10, 'b': 20, 'c': 'goutham'}"
      ]
     },
     "execution_count": 13,
     "metadata": {},
     "output_type": "execute_result"
    }
   ],
   "source": [
    "\"\"\"Q2. Why *args and **kwargs is used in some functions? Create a function each for *args and **kwargs to\n",
    "demonstrate their use.\"\"\"\n",
    "\"\"\"*args is used for unlimted of input arguments\"\"\"\n",
    "def t(*args):\n",
    "    return args\n",
    "t(1,2,3,4,5,6,7)\n",
    "\"\"\"**kwargs is used n number of key and value pair  arguments \"\"\"\n",
    "def t1(**kwargs):\n",
    "    return kwargs\n",
    "t1(a=10,b=20,c=\"goutham\")"
   ]
  },
  {
   "cell_type": "code",
   "execution_count": 8,
   "id": "3353efc9-38db-45e6-9140-a952af90ce0d",
   "metadata": {},
   "outputs": [
    {
     "name": "stdout",
     "output_type": "stream",
     "text": [
      "2\n",
      "4\n",
      "6\n",
      "8\n",
      "10\n"
     ]
    }
   ],
   "source": [
    "\"\"\"Q3. What is an iterator in python? Name the method used to initialise the iterator object and the method\n",
    "used for iteration. Use these methods to print the first five elements of the given list [2, 4, 6, 8, 10, 12, 14, 16,\n",
    "18, 20].\"\"\"\n",
    "\"\"\"  Iterators in Python allow for efficient access to elements in a sequence one at a time. \n",
    "This allows for the creation of efficient and memory-saving loops that can process large amounts of data.  \n",
    "     To initialize an iterator object in Python, we can use the iter() method.\n",
    "    It takes a container  as an argument and returns an iterator object.\"\"\"\n",
    "list1 = [2, 4, 6, 8, 10, 12, 14, 16, 18, 20]\n",
    "\n",
    "my_iterator = iter(list1)\n",
    "\n",
    "for i in range(5):\n",
    "    element = next(my_iterator)\n",
    "    print(element)\n",
    "\n",
    "    \n"
   ]
  },
  {
   "cell_type": "code",
   "execution_count": 29,
   "id": "12ed4c7a-742e-48e9-94e2-3b94011ca987",
   "metadata": {},
   "outputs": [],
   "source": [
    "\"\"\"Q4. What is a generator function in python? Why yield keyword is used? Give an example of a generator\n",
    "function.\"\"\"\n",
    "#Generator function\n",
    "\"\"\" Generator function is function which returns sequnces of values \"\"\"\n",
    "\"\"\" in generator we use yield instead of return\"\"\"\n",
    "\"\"\"The yield keyword is used in generator functions to specify the value to be generated in each iteration\"\"\"\n",
    "def fact(n):\n",
    "    for i in range(n):\n",
    "        if i%2==0:\n",
    "             yield i\n",
    "    "
   ]
  },
  {
   "cell_type": "code",
   "execution_count": 30,
   "id": "5f3249a0-cfc8-404c-b75b-74144609349d",
   "metadata": {},
   "outputs": [
    {
     "data": {
      "text/plain": [
       "<generator object fact at 0x7f7114329150>"
      ]
     },
     "execution_count": 30,
     "metadata": {},
     "output_type": "execute_result"
    }
   ],
   "source": [
    "fact(10)"
   ]
  },
  {
   "cell_type": "code",
   "execution_count": 31,
   "id": "b0eac1e7-d068-4bda-b2b6-41c0b2f56ddf",
   "metadata": {},
   "outputs": [
    {
     "name": "stdout",
     "output_type": "stream",
     "text": [
      "0\n",
      "2\n",
      "4\n",
      "6\n",
      "8\n"
     ]
    }
   ],
   "source": [
    "for i in fact(10):\n",
    "    print(i)"
   ]
  },
  {
   "cell_type": "code",
   "execution_count": 33,
   "id": "3bffa07a-13f4-4adf-9964-b186a1231f35",
   "metadata": {},
   "outputs": [],
   "source": [
    "\"\"\"Q5. Create a generator function for prime numbers less than 1000. Use the next() method to print the\n",
    "first 20 prime numbers.\"\"\"\n",
    "def test():\n",
    "    for i in range(1,1000):\n",
    "        for j in range(2,i):\n",
    "            if i%j==0:\n",
    "                break\n",
    "        else:\n",
    "            yield i\n",
    "            \n"
   ]
  },
  {
   "cell_type": "code",
   "execution_count": 34,
   "id": "79268c15-ebbd-4c33-965d-1f4dc5a02905",
   "metadata": {},
   "outputs": [
    {
     "data": {
      "text/plain": [
       "<generator object test at 0x7f7114329f50>"
      ]
     },
     "execution_count": 34,
     "metadata": {},
     "output_type": "execute_result"
    }
   ],
   "source": [
    "test()"
   ]
  },
  {
   "cell_type": "code",
   "execution_count": 35,
   "id": "3c13968a-876a-476a-a67d-874d9954affc",
   "metadata": {},
   "outputs": [
    {
     "name": "stdout",
     "output_type": "stream",
     "text": [
      "1\n",
      "2\n",
      "3\n",
      "5\n",
      "7\n",
      "11\n",
      "13\n",
      "17\n",
      "19\n",
      "23\n",
      "29\n",
      "31\n",
      "37\n",
      "41\n",
      "43\n",
      "47\n",
      "53\n",
      "59\n",
      "61\n",
      "67\n",
      "71\n",
      "73\n",
      "79\n",
      "83\n",
      "89\n",
      "97\n",
      "101\n",
      "103\n",
      "107\n",
      "109\n",
      "113\n",
      "127\n",
      "131\n",
      "137\n",
      "139\n",
      "149\n",
      "151\n",
      "157\n",
      "163\n",
      "167\n",
      "173\n",
      "179\n",
      "181\n",
      "191\n",
      "193\n",
      "197\n",
      "199\n",
      "211\n",
      "223\n",
      "227\n",
      "229\n",
      "233\n",
      "239\n",
      "241\n",
      "251\n",
      "257\n",
      "263\n",
      "269\n",
      "271\n",
      "277\n",
      "281\n",
      "283\n",
      "293\n",
      "307\n",
      "311\n",
      "313\n",
      "317\n",
      "331\n",
      "337\n",
      "347\n",
      "349\n",
      "353\n",
      "359\n",
      "367\n",
      "373\n",
      "379\n",
      "383\n",
      "389\n",
      "397\n",
      "401\n",
      "409\n",
      "419\n",
      "421\n",
      "431\n",
      "433\n",
      "439\n",
      "443\n",
      "449\n",
      "457\n",
      "461\n",
      "463\n",
      "467\n",
      "479\n",
      "487\n",
      "491\n",
      "499\n",
      "503\n",
      "509\n",
      "521\n",
      "523\n",
      "541\n",
      "547\n",
      "557\n",
      "563\n",
      "569\n",
      "571\n",
      "577\n",
      "587\n",
      "593\n",
      "599\n",
      "601\n",
      "607\n",
      "613\n",
      "617\n",
      "619\n",
      "631\n",
      "641\n",
      "643\n",
      "647\n",
      "653\n",
      "659\n",
      "661\n",
      "673\n",
      "677\n",
      "683\n",
      "691\n",
      "701\n",
      "709\n",
      "719\n",
      "727\n",
      "733\n",
      "739\n",
      "743\n",
      "751\n",
      "757\n",
      "761\n",
      "769\n",
      "773\n",
      "787\n",
      "797\n",
      "809\n",
      "811\n",
      "821\n",
      "823\n",
      "827\n",
      "829\n",
      "839\n",
      "853\n",
      "857\n",
      "859\n",
      "863\n",
      "877\n",
      "881\n",
      "883\n",
      "887\n",
      "907\n",
      "911\n",
      "919\n",
      "929\n",
      "937\n",
      "941\n",
      "947\n",
      "953\n",
      "967\n",
      "971\n",
      "977\n",
      "983\n",
      "991\n",
      "997\n"
     ]
    }
   ],
   "source": [
    "for i in test():\n",
    "    print(i)"
   ]
  },
  {
   "cell_type": "code",
   "execution_count": 36,
   "id": "37f6b76e-4f91-42af-8544-4acc49d676d2",
   "metadata": {},
   "outputs": [],
   "source": [
    "t=test()"
   ]
  },
  {
   "cell_type": "code",
   "execution_count": 37,
   "id": "eb46c69d-e84b-48ac-a218-a82f36ad09e4",
   "metadata": {},
   "outputs": [
    {
     "name": "stdout",
     "output_type": "stream",
     "text": [
      "1\n"
     ]
    }
   ],
   "source": [
    "print(next(t))"
   ]
  },
  {
   "cell_type": "code",
   "execution_count": 38,
   "id": "cff208b5-8da4-46a4-83ab-37e7c2266ba5",
   "metadata": {},
   "outputs": [
    {
     "name": "stdout",
     "output_type": "stream",
     "text": [
      "2\n"
     ]
    }
   ],
   "source": [
    "print(next(t))"
   ]
  },
  {
   "cell_type": "code",
   "execution_count": 39,
   "id": "a8e9940d-459c-4094-8500-ac6c6dc6ba33",
   "metadata": {},
   "outputs": [
    {
     "name": "stdout",
     "output_type": "stream",
     "text": [
      "3\n"
     ]
    }
   ],
   "source": [
    "print(next(t))"
   ]
  },
  {
   "cell_type": "code",
   "execution_count": 40,
   "id": "a1e57a52-693f-4246-ac5d-b51beadf679a",
   "metadata": {},
   "outputs": [
    {
     "name": "stdout",
     "output_type": "stream",
     "text": [
      "5\n"
     ]
    }
   ],
   "source": [
    "print(next(t))"
   ]
  },
  {
   "cell_type": "code",
   "execution_count": 41,
   "id": "ab96f94e-bddb-4e50-9811-d31ac2ccb456",
   "metadata": {},
   "outputs": [
    {
     "name": "stdout",
     "output_type": "stream",
     "text": [
      "7\n"
     ]
    }
   ],
   "source": [
    "print(next(t))"
   ]
  },
  {
   "cell_type": "code",
   "execution_count": 42,
   "id": "ed91552b-2ef8-431f-86df-e8c8fdd21a99",
   "metadata": {},
   "outputs": [
    {
     "name": "stdout",
     "output_type": "stream",
     "text": [
      "11\n"
     ]
    }
   ],
   "source": [
    "print(next(t))"
   ]
  },
  {
   "cell_type": "code",
   "execution_count": 43,
   "id": "9f845a4c-0629-478e-9df2-0406aafe7fb2",
   "metadata": {},
   "outputs": [
    {
     "name": "stdout",
     "output_type": "stream",
     "text": [
      "13\n"
     ]
    }
   ],
   "source": [
    "print(next(t))"
   ]
  },
  {
   "cell_type": "code",
   "execution_count": 44,
   "id": "9facbaa0-068f-4b0e-9590-6045027cf5f4",
   "metadata": {},
   "outputs": [
    {
     "name": "stdout",
     "output_type": "stream",
     "text": [
      "17\n"
     ]
    }
   ],
   "source": [
    "print(next(t))"
   ]
  },
  {
   "cell_type": "code",
   "execution_count": 45,
   "id": "a7373dca-6ff7-4652-aced-3142672b0dd6",
   "metadata": {},
   "outputs": [
    {
     "name": "stdout",
     "output_type": "stream",
     "text": [
      "19\n"
     ]
    }
   ],
   "source": [
    "print(next(t))"
   ]
  },
  {
   "cell_type": "code",
   "execution_count": null,
   "id": "58d40c19-c31b-48ab-a4d0-459c64b6f27f",
   "metadata": {},
   "outputs": [],
   "source": []
  }
 ],
 "metadata": {
  "kernelspec": {
   "display_name": "Python 3 (ipykernel)",
   "language": "python",
   "name": "python3"
  },
  "language_info": {
   "codemirror_mode": {
    "name": "ipython",
    "version": 3
   },
   "file_extension": ".py",
   "mimetype": "text/x-python",
   "name": "python",
   "nbconvert_exporter": "python",
   "pygments_lexer": "ipython3",
   "version": "3.10.8"
  }
 },
 "nbformat": 4,
 "nbformat_minor": 5
}
