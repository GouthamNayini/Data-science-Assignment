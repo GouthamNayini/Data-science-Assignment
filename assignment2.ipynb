{
 "cells": [
  {
   "cell_type": "code",
   "execution_count": 1,
   "id": "61c367f3-48fc-4438-b9b3-da904e3f3cb6",
   "metadata": {},
   "outputs": [
    {
     "data": {
      "text/plain": [
       "30"
      ]
     },
     "execution_count": 1,
     "metadata": {},
     "output_type": "execute_result"
    }
   ],
   "source": [
    "\"\"\"Q1. How do you comment code in Python? What are the different types of comments?\"\"\"\n",
    "#comments\n",
    "\"\"\" comments are english words that are used for explainig the code\n",
    "    the comments are 2 types \n",
    "    1.single line comment \n",
    "    in single line comments we use #(Hash) for comments\n",
    "    2.mutli line comments:\n",
    "       these are more then 1 line comments and triple quotes are used here\"\"\"\"\"\"\"\n",
    "\"\"\"\n",
    "# adding 2 numbers\n",
    "10+20"
   ]
  },
  {
   "cell_type": "code",
   "execution_count": 2,
   "id": "84525404-904d-438d-bf98-34cb31d77a19",
   "metadata": {},
   "outputs": [
    {
     "data": {
      "text/plain": [
       "20"
      ]
     },
     "execution_count": 2,
     "metadata": {},
     "output_type": "execute_result"
    }
   ],
   "source": [
    "\"\"\"Q2. What are variables in Python? How do you declare and assign values to variables?\"\"\"\n",
    "\"\"\" Variables refers to address location stored in memory\n",
    " variable can delcared by\n",
    "   variable_name=variable_value\"\"\"\n",
    "a=20\n",
    "a"
   ]
  },
  {
   "cell_type": "code",
   "execution_count": 8,
   "id": "6bfa8e77-0f4e-44df-b8e1-aa38d0221891",
   "metadata": {},
   "outputs": [
    {
     "name": "stdout",
     "output_type": "stream",
     "text": [
      "120\n",
      "120.0\n"
     ]
    }
   ],
   "source": [
    "\"\"\"Q3. How do you convert one data type to another in Python?\"\"\"\n",
    "\"\"\" By using type conversion we convert one data type to another data type\"\"\"\n",
    "a=120\n",
    "print(a)\n",
    "type(a)\n",
    "b=float(a)\n",
    "print(b)"
   ]
  },
  {
   "cell_type": "code",
   "execution_count": 32,
   "id": "f1cb43b1-e901-4be8-9c71-61070c1155f1",
   "metadata": {},
   "outputs": [],
   "source": [
    "#Q4. How do you write and execute a Python script from the command line?\"\"\"\n",
    "\n",
    "#1:Open jupiter\n",
    "#2:create a new pythone notebook and save it using .pynb\n",
    "#3.write the code \n",
    "#4.save \n",
    "#5.press shift+enter or Run button\n",
    "\n"
   ]
  },
  {
   "cell_type": "code",
   "execution_count": 25,
   "id": "b34f3397-b1e5-4d55-965d-a5b562471954",
   "metadata": {},
   "outputs": [
    {
     "data": {
      "text/plain": [
       "[2, 3]"
      ]
     },
     "execution_count": 25,
     "metadata": {},
     "output_type": "execute_result"
    }
   ],
   "source": [
    "\"\"\"Q5. Given a list my_list = [1, 2, 3, 4, 5], write the code to slice the list and obtain the sub-list [2, 3].\"\"\"\n",
    "l=[1,2,3,4,5]\n",
    "l[1:3]"
   ]
  },
  {
   "cell_type": "code",
   "execution_count": 35,
   "id": "f52ceb38-4fa6-416d-bf21-c2df5b5d09a7",
   "metadata": {},
   "outputs": [
    {
     "name": "stdout",
     "output_type": "stream",
     "text": [
      "(1+2j)\n"
     ]
    }
   ],
   "source": [
    "\"\"\"Q6. What is a complex number in mathematics, and how is it represented in Python?\"\"\"\n",
    "\"\"\"complex numbers are comnination of integer and imaginary value it represnted in int+(img)j\"\"\"\n",
    "i=1+2j\n",
    "type(i)\n",
    "print(i)\n"
   ]
  },
  {
   "cell_type": "code",
   "execution_count": 36,
   "id": "00f6feeb-9fed-4bca-821a-2edc44795e96",
   "metadata": {},
   "outputs": [
    {
     "name": "stdout",
     "output_type": "stream",
     "text": [
      "25\n"
     ]
    }
   ],
   "source": [
    "\"\"\"Q7. What is the correct way to declare a variable named age and assign the value 25 to it?\"\"\"\n",
    "\"\"\" variable_name=variable_value is correct way of delcaring the variables\"\"\"\n",
    "age=25\n",
    "print(age)"
   ]
  },
  {
   "cell_type": "code",
   "execution_count": 37,
   "id": "81fd51a4-08ad-4748-81dc-717c339fafe4",
   "metadata": {},
   "outputs": [
    {
     "name": "stdout",
     "output_type": "stream",
     "text": [
      "9.999\n"
     ]
    },
    {
     "data": {
      "text/plain": [
       "float"
      ]
     },
     "execution_count": 37,
     "metadata": {},
     "output_type": "execute_result"
    }
   ],
   "source": [
    "\"\"\"Q8. Declare a variable named price and assign the value 9.99 to it. What data type does this variable\n",
    "belong to?\"\"\"\n",
    "price=9.999\n",
    "print(price)\n",
    "type(price)"
   ]
  },
  {
   "cell_type": "code",
   "execution_count": 38,
   "id": "89ffd4c6-3683-4b03-9ba3-55982278bf81",
   "metadata": {},
   "outputs": [
    {
     "name": "stdout",
     "output_type": "stream",
     "text": [
      "Nayini Goutham Goud\n"
     ]
    },
    {
     "data": {
      "text/plain": [
       "str"
      ]
     },
     "execution_count": 38,
     "metadata": {},
     "output_type": "execute_result"
    }
   ],
   "source": [
    "\"\"\"Q9. Create a variable named name and assign your full name to it as a string. How would you print the\n",
    "value of this variable?\"\"\"\n",
    "name=\"Nayini Goutham Goud\"\n",
    "print(name)\n",
    "type(name)"
   ]
  },
  {
   "cell_type": "code",
   "execution_count": 40,
   "id": "3bfa249b-6e06-46ba-be8c-84857f28c44d",
   "metadata": {},
   "outputs": [
    {
     "data": {
      "text/plain": [
       "' world'"
      ]
     },
     "execution_count": 40,
     "metadata": {},
     "output_type": "execute_result"
    }
   ],
   "source": [
    "\"\"\"Q10. Given the string \"Hello, World!\", extract the substring \"World\".\"\"\"\n",
    "h=\"Hello world!\"\n",
    "h[5:11]"
   ]
  },
  {
   "cell_type": "code",
   "execution_count": 45,
   "id": "08d76a3a-d3e3-44ac-8062-efe4ae0cdaf3",
   "metadata": {},
   "outputs": [
    {
     "name": "stdout",
     "output_type": "stream",
     "text": [
      "True\n"
     ]
    }
   ],
   "source": [
    "\"\"\"Q11. Create a variable named \"is_student\" and assign it a boolean value indicating whether you are\n",
    "currently a student or not.\"\"\"\n",
    "is_student=True\n",
    "print(is_student)"
   ]
  },
  {
   "cell_type": "code",
   "execution_count": null,
   "id": "1634e6aa-a136-4304-a058-d2acbec2c622",
   "metadata": {},
   "outputs": [],
   "source": []
  }
 ],
 "metadata": {
  "kernelspec": {
   "display_name": "Python 3 (ipykernel)",
   "language": "python",
   "name": "python3"
  },
  "language_info": {
   "codemirror_mode": {
    "name": "ipython",
    "version": 3
   },
   "file_extension": ".py",
   "mimetype": "text/x-python",
   "name": "python",
   "nbconvert_exporter": "python",
   "pygments_lexer": "ipython3",
   "version": "3.10.8"
  }
 },
 "nbformat": 4,
 "nbformat_minor": 5
}
