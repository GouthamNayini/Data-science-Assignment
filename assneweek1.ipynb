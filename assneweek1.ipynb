{
 "cells": [
  {
   "cell_type": "code",
   "execution_count": 2,
   "id": "2dd9b161-1eaa-4914-aa54-3e4bacdf6302",
   "metadata": {},
   "outputs": [
    {
     "name": "stdout",
     "output_type": "stream",
     "text": [
      "goutham [1, 2, 3, 'goutham', 2.5] 2.9999 (1, 2, 3, 'hello', 0.26) <class 'list'>\n"
     ]
    }
   ],
   "source": [
    "\"\"\"Q1. Create one variable containing following type of data:\n",
    "(i) string\n",
    "(ii) list\n",
    "(iii) float\n",
    "(iv) tuple \"\"\"\n",
    "#Answers\n",
    "  #1st\n",
    "    g=\"goutham\"\n",
    "    #2nd\n",
    "l=[1,2,3,\"goutham\",2.5]\n",
    "#3rd\n",
    "f=2.9999\n",
    "#4th\n",
    "t=(1,2,3,\"hello\",0.26)\n",
    "#printing those\n",
    "print(g,l,f,t)\n",
    "\n"
   ]
  },
  {
   "cell_type": "code",
   "execution_count": 3,
   "id": "a60a5b3e-7705-42b5-966d-be259e343d3c",
   "metadata": {},
   "outputs": [
    {
     "name": "stdout",
     "output_type": "stream",
     "text": [
      " 1 st question data type is :string \n",
      "2 st question data type is : string \n",
      "3 st question data type is : List \n",
      "4 st question data type is : Float\n"
     ]
    }
   ],
   "source": [
    "\"\"\"Q2. Given are some following variables containing data:\n",
    "(i) var1 = ' '\n",
    "(ii) var2 = '[ DS , ML , Python]'\n",
    "(iii) var3 = [ ‘DS’ , ’ML’ , ‘Python’ ]\n",
    "(iv) var4 = 1.\n",
    "What will be the data type of the above given variable.\"\"\"\n",
    "#1st ans\n",
    "print(\" 1 st question data type is :string \")\n",
    "#2nd ans\n",
    "print(\"2 st question data type is : string \")\n",
    "#3rd Ans\n",
    "print(\"3 st question data type is : List \")\n",
    "#4th Ans\n",
    "print(\"4 st question data type is : Float\")\n",
    "\n"
   ]
  },
  {
   "cell_type": "code",
   "execution_count": 1,
   "id": "8876365a-4f0a-42f5-ba80-744edbf3f9fc",
   "metadata": {},
   "outputs": [
    {
     "name": "stdout",
     "output_type": "stream",
     "text": [
      "2.0\n",
      "1\n",
      "3\n",
      "9\n"
     ]
    }
   ],
   "source": [
    "\"\"\"Q3. Explain the use of the following operators using an example:\n",
    "(i) /\n",
    "(ii) %\n",
    "(iii) //\n",
    "(iv) ** \"\"\"\n",
    "# 1st ans \n",
    "#divison it divides\n",
    "a=10\n",
    "b=5\n",
    "c=a/b\n",
    "print(c)\n",
    "#2nd ans\n",
    "##remainder \n",
    "a=10\n",
    "b=3\n",
    "c=a%b\n",
    "print(c)\n",
    "#3rd Ans\n",
    "#floor division it gives near by value of quotient\n",
    "a=10\n",
    "b=3\n",
    "c=a//b\n",
    "print(c)\n",
    "#4th ans\n",
    "#power\n",
    "print(3**2)\n",
    "\n",
    "\n",
    "\n",
    "\n"
   ]
  },
  {
   "cell_type": "code",
   "execution_count": 4,
   "id": "7712e292-87a2-4386-a1b4-96ff0263a218",
   "metadata": {},
   "outputs": [
    {
     "name": "stdout",
     "output_type": "stream",
     "text": [
      "1 <class 'int'>\n",
      "2 <class 'int'>\n",
      "3 <class 'int'>\n",
      "4 <class 'int'>\n",
      "5 <class 'int'>\n",
      "goutham <class 'str'>\n",
      "2.0 <class 'float'>\n",
      "11 <class 'int'>\n",
      "SSSS <class 'str'>\n",
      "100 <class 'int'>\n"
     ]
    }
   ],
   "source": [
    "\"\"\"\" Q4. Create a list of length 10 of your choice containing multiple types of data. Using for loop print the\n",
    "element and its data type. \"\"\"\n",
    "    #4th Ans\n",
    "l=[1,2,3,4,5,\"goutham\",2.0,11,\"SSSS\",100]\n",
    "for i in l:\n",
    "    print(i,type(i))\n",
    "    "
   ]
  },
  {
   "cell_type": "code",
   "execution_count": 9,
   "id": "90e1600f-56c3-427d-ab53-6f49d0a73e16",
   "metadata": {},
   "outputs": [
    {
     "name": "stdout",
     "output_type": "stream",
     "text": [
      "Number A is divisible by B\n",
      "2\n"
     ]
    }
   ],
   "source": [
    "\"\"\"Q5. Using a while loop, verify if the number A is purely divisible by number B and if so then how many\n",
    "times it can be divisible.\"\"\"\n",
    "\n",
    "#q5Ans\n",
    "count=0\n",
    "a=9\n",
    "b=3\n",
    "while a%b ==0:\n",
    "    a/=b\n",
    "    count=count+1\n",
    "if count>0:\n",
    "    print(\"Number A is divisible by B\")\n",
    "    print(count)\n",
    "else:\n",
    "    print(count)\n"
   ]
  },
  {
   "cell_type": "code",
   "execution_count": 10,
   "id": "c20d87b5-96c1-4e82-beb6-a9b445187229",
   "metadata": {},
   "outputs": [
    {
     "name": "stdout",
     "output_type": "stream",
     "text": [
      " it not divides 1\n",
      " it not divides 2\n",
      " it divides 3\n",
      " it not divides 4\n",
      " it not divides 5\n",
      " it divides 6\n",
      " it not divides 7\n",
      " it not divides 8\n",
      " it divides 9\n",
      " it not divides 10\n",
      " it not divides 11\n",
      " it divides 12\n",
      " it not divides 13\n",
      " it not divides 14\n",
      " it divides 15\n",
      " it not divides 16\n",
      " it not divides 17\n",
      " it divides 18\n",
      " it not divides 19\n",
      " it not divides 20\n",
      " it divides 21\n",
      " it not divides 22\n",
      " it not divides 23\n",
      " it divides 24\n",
      " it not divides 25\n"
     ]
    }
   ],
   "source": [
    "\"\"\"Q6. Create a list containing 25 int type data. Using for loop and if-else condition print if the element is\n",
    "divisible by 3 or not.\"\"\"\n",
    "#question 6 Ans\n",
    "l=[1,2,3,4,5,6,7,8,9,10,11,12,13,14,15,16,17,18,19,20,21,22,23,24,25]\n",
    "for i in l:\n",
    "    if i%3==0:\n",
    "        print(\" it divides\",i)\n",
    "    else:\n",
    "        print(\" it not divides\",i)\n"
   ]
  },
  {
   "cell_type": "code",
   "execution_count": null,
   "id": "f073b674-2ea0-4aef-921f-0f310fd4a765",
   "metadata": {},
   "outputs": [],
   "source": [
    "\"\"\"Q7. What do you understand about mutable and immutable data types? Give examples for both showing\n",
    "this property.\"\"\"\n",
    "#question 7Ans\n",
    "\"\"\" mutability is changing values using index numbers  for a particular data type\"\"\"\n",
    "l=[1,2,3]\n",
    "l[1]=22\n",
    "\"\"\" immutability is not able change the values using index numbers\"\"\"\n",
    "g=\"goutham\""
   ]
  }
 ],
 "metadata": {
  "kernelspec": {
   "display_name": "Python 3 (ipykernel)",
   "language": "python",
   "name": "python3"
  },
  "language_info": {
   "codemirror_mode": {
    "name": "ipython",
    "version": 3
   },
   "file_extension": ".py",
   "mimetype": "text/x-python",
   "name": "python",
   "nbconvert_exporter": "python",
   "pygments_lexer": "ipython3",
   "version": "3.10.8"
  }
 },
 "nbformat": 4,
 "nbformat_minor": 5
}
