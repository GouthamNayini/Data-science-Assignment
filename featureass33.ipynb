{
 "cells": [
  {
   "cell_type": "markdown",
   "metadata": {},
   "source": [
    "Q1. What is the difference between Ordinal Encoding and Label Encoding? Provide an example of when you\n",
    "might choose one over the other.\n",
    "\n",
    " Ordinal Encoding and Label Encoding are both techniques used to convert categorical variables into numerical format, but they differ in how they handle the encoding.\n",
    "\n",
    "Ordinal Encoding: Assigns a unique integer to each category, but these integers have an ordered relationship. This means that the encoded values reflect the order or rank of the categories. For example, in ordinal encoding, if we have categories like \"low,\" \"medium,\" and \"high,\" they might be encoded as 0, 1, and 2 respectively. Ordinal encoding is suitable when there is a clear ordering or ranking among the categories, such as in levels like \"low,\" \"medium,\" and \"high.\"\n",
    "\n",
    "Label Encoding: Assigns a unique integer to each category without considering any order or ranking. Each category is simply assigned a different integer value. For example, in label encoding, if we have categories like \"red,\" \"green,\" and \"blue,\" they might be encoded as 0, 1, and 2 respectively. Label encoding is suitable when there is no inherent order or ranking among the categories."
   ]
  },
  {
   "cell_type": "markdown",
   "metadata": {},
   "source": [
    "Q2. Explain how Target Guided Ordinal Encoding works and provide an example of when you might use it in\n",
    "a machine learning project.\n",
    "\n",
    " Target Guided Ordinal Encoding is a technique used for ordinal encoding where the categories are ranked according to the mean of the target variable within each category. This means that the categories are encoded based on their relationship with the target variable.\n",
    "\n",
    "Example: In a binary classification problem where you are predicting whether a customer will buy a product or not, you might use Target Guided Ordinal Encoding to encode the categories of a feature such as \"Education Level.\" This encoding could help the model capture the relationship between education level and the likelihood of buying the product."
   ]
  },
  {
   "cell_type": "markdown",
   "metadata": {},
   "source": [
    "Q3. Define covariance and explain why it is important in statistical analysis. How is covariance calculated?\n",
    "\n",
    "Covariance measures the degree to which two variables change together. It indicates the direction of the linear relationship between variables. If covariance is positive, it means that as one variable increases, the other also tends to increase. If covariance is negative, it means that as one variable increases, the other tends to decrease. Covariance is important in statistical analysis as it helps understand how changes in one variable are associated with changes in another.\n",
    "\n",
    "Covariance is calculated using the formula:\n",
    "cov(X,Y)=n∑i=1n​(Xi​−Xˉ)(Yi​−Yˉ)​"
   ]
  },
  {
   "cell_type": "markdown",
   "metadata": {},
   "source": [
    "Q4. For a dataset with the following categorical variables: Color (red, green, blue), Size (small, medium,\n",
    "large), and Material (wood, metal, plastic), perform label encoding using Python's scikit-learn library.\n",
    "Show your code and explain the output.\n",
    "\n"
   ]
  },
  {
   "cell_type": "code",
   "execution_count": 4,
   "metadata": {},
   "outputs": [
    {
     "name": "stdout",
     "output_type": "stream",
     "text": [
      "{'Color': array([2, 1, 0, 1], dtype=int64), 'Size': array([2, 1, 0, 1], dtype=int64), 'Material': array([2, 0, 1, 0], dtype=int64)}\n"
     ]
    }
   ],
   "source": [
    "from sklearn.preprocessing import LabelEncoder\n",
    "\n",
    "data = {'Color': ['red', 'green', 'blue', 'green'],\n",
    "        'Size': ['small', 'medium', 'large', 'medium'],\n",
    "        'Material': ['wood', 'metal', 'plastic', 'metal']}\n",
    "label_encoder = LabelEncoder()\n",
    "for col in data.keys():\n",
    "    data[col] = label_encoder.fit_transform(data[col])\n",
    "print(data)\n"
   ]
  },
  {
   "cell_type": "markdown",
   "metadata": {},
   "source": [
    "Q5. Calculate the covariance matrix for the following variables in a dataset: Age, Income, and Education\n",
    "level. Interpret the results."
   ]
  },
  {
   "cell_type": "code",
   "execution_count": 5,
   "metadata": {},
   "outputs": [
    {
     "name": "stdout",
     "output_type": "stream",
     "text": [
      "Covariance Matrix:\n",
      "[[6.25e+01 6.25e+04 2.25e+01]\n",
      " [6.25e+04 6.25e+07 2.25e+04]\n",
      " [2.25e+01 2.25e+04 1.00e+01]]\n"
     ]
    }
   ],
   "source": [
    "import numpy as np\n",
    "\n",
    "# Example data for Age, Income, and Education level\n",
    "age = np.array([30, 40, 50, 35, 45])\n",
    "income = np.array([50000, 60000, 70000, 55000, 65000])\n",
    "education_level = np.array([12, 16, 18, 14, 20])\n",
    "\n",
    "# Create a matrix where each row represents a variable (Age, Income, Education level)\n",
    "data_matrix = np.array([age, income, education_level])\n",
    "\n",
    "# Calculate the covariance matrix\n",
    "covariance_matrix = np.cov(data_matrix)\n",
    "\n",
    "print(\"Covariance Matrix:\")\n",
    "print(covariance_matrix)\n"
   ]
  },
  {
   "cell_type": "markdown",
   "metadata": {},
   "source": [
    "Q6. You are working on a machine learning project with a dataset containing several categorical\n",
    "variables, including \"Gender\" (Male/Female), \"Education Level\" (High School/Bachelor's/Master's/PhD),\n",
    "and \"Employment Status\" (Unemployed/Part-Time/Full-Time). Which encoding method would you use for\n",
    "each variable, and why?\n",
    "\n",
    "For the given categorical variables:\n",
    "\n",
    "Gender: Since there's no inherent order or ranking between Male and Female, label encoding would be appropriate.\n",
    "Education Level: There is an inherent order in the education levels, so ordinal encoding could be used, or target guided ordinal encoding if the target variable is available.\n",
    "Employment Status: Similar to Gender, there's no inherent order, so label encoding would be suitable."
   ]
  },
  {
   "cell_type": "markdown",
   "metadata": {},
   "source": [
    "Q7. You are analyzing a dataset with two continuous variables, \"Temperature\" and \"Humidity\", and two\n",
    "categorical variables, \"Weather Condition\" (Sunny/Cloudy/Rainy) and \"Wind Direction\" (North/South/\n",
    "East/West). Calculate the covariance between each pair of variables and interpret the results.\n"
   ]
  },
  {
   "cell_type": "code",
   "execution_count": 6,
   "metadata": {},
   "outputs": [
    {
     "name": "stdout",
     "output_type": "stream",
     "text": [
      "Covariance Matrix for Continuous Variables (Temperature and Humidity):\n",
      "             Temperature  Humidity\n",
      "Temperature         9.30     16.95\n",
      "Humidity           16.95     31.30\n"
     ]
    }
   ],
   "source": [
    "import pandas as pd\n",
    "\n",
    "# Sample data\n",
    "data = {\n",
    "    \"Temperature\": [25, 28, 30, 22, 27],\n",
    "    \"Humidity\": [60, 65, 70, 55, 63],\n",
    "    \"Weather Condition\": [\"Sunny\", \"Cloudy\", \"Rainy\", \"Sunny\", \"Cloudy\"],\n",
    "    \"Wind Direction\": [\"North\", \"South\", \"East\", \"West\", \"North\"]\n",
    "}\n",
    "\n",
    "# Create DataFrame\n",
    "df = pd.DataFrame(data)\n",
    "\n",
    "# Encode categorical variables\n",
    "df_encoded = pd.get_dummies(df, columns=[\"Weather Condition\", \"Wind Direction\"])\n",
    "\n",
    "# Calculate covariance between continuous variables\n",
    "covariance_continuous = df_encoded[[\"Temperature\", \"Humidity\"]].cov()\n",
    "\n",
    "print(\"Covariance Matrix for Continuous Variables (Temperature and Humidity):\")\n",
    "print(covariance_continuous)\n"
   ]
  }
 ],
 "metadata": {
  "kernelspec": {
   "display_name": "Python 3",
   "language": "python",
   "name": "python3"
  },
  "language_info": {
   "codemirror_mode": {
    "name": "ipython",
    "version": 3
   },
   "file_extension": ".py",
   "mimetype": "text/x-python",
   "name": "python",
   "nbconvert_exporter": "python",
   "pygments_lexer": "ipython3",
   "version": "3.11.8"
  }
 },
 "nbformat": 4,
 "nbformat_minor": 2
}
