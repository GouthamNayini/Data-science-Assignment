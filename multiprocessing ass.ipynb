{
 "cells": [
  {
   "cell_type": "markdown",
   "id": "8bd6b51c-6057-43d4-8a4c-256c6908f7c7",
   "metadata": {},
   "source": [
    "#Q1. What is multiprocessing in python? Why is it useful?\n",
    " \"\"\"multiprocessing is execution of multiple processes, each with its own memory space\n",
    " it is more usefull because it uses mutliple processors\"\"\"\n",
    "    "
   ]
  },
  {
   "cell_type": "markdown",
   "id": "1cbf7759-6df3-4b9b-9fbf-68bd36dd3e17",
   "metadata": {},
   "source": [
    "#Q2. What are the differences between multiprocessing and multithreading?\n",
    "#Concurrency: Multithreading focuses on concurrent execution within a single process, while multiprocessing executes multiple processes in parallel.\n",
    "#Parallelism: Multiprocessing achieves true parallelism by using multiple CPU cores, while multithreading can be constrained by the GIL.\n",
    "#Isolation: Processes in multiprocessing have separate memory spaces, ensuring isolation, while threads share memory within a process.\n",
    "#Complexity: Multiprocessing can be more complex due to inter-process communication (IPC) mechanisms. Multithreading can have synchronization complexities."
   ]
  },
  {
   "cell_type": "code",
   "execution_count": 2,
   "id": "745887e2-b219-4428-904c-55b4bc2e5772",
   "metadata": {},
   "outputs": [
    {
     "name": "stdout",
     "output_type": "stream",
     "text": [
      "writing assignment for sumbit\n",
      "Main process\n"
     ]
    }
   ],
   "source": [
    "#Q3. Write a Python code to create a process using the multiprocessing module\n",
    "import multiprocessing\n",
    "\n",
    "def goutham():\n",
    "    print(\"writing assignment for sumbit\")\n",
    "\n",
    "if __name__ == \"__main__\":\n",
    "    process = multiprocessing.Process(target=goutham)\n",
    "    process.start()\n",
    "    process.join()\n",
    "    print(\"Main process\")\n"
   ]
  },
  {
   "cell_type": "markdown",
   "id": "ef8a6658-509e-44f0-b495-30bb04e15618",
   "metadata": {},
   "source": [
    "#Q4. What is a multiprocessing pool in Python? Why is it used?\n",
    "\n",
    "#A multiprocessing pool is a collection of worker processes that can be used to parallelize tasks. It abstracts the process creation and management, allowing you to distribute tasks across multiple processes easily. It's particularly useful for parallelizing tasks that can be split into independent units of work."
   ]
  },
  {
   "cell_type": "code",
   "execution_count": 5,
   "id": "782609cc-9f0f-45ff-90e1-3d2e40912ad9",
   "metadata": {},
   "outputs": [
    {
     "name": "stdout",
     "output_type": "stream",
     "text": [
      "the num of teachers 0the num of teachers 1the num of teachers 2\n",
      "\n",
      "\n",
      "Main process\n"
     ]
    }
   ],
   "source": [
    "#Q5. How can we create a pool of worker processes in Python using the multiprocessing module?\n",
    "import multiprocessing\n",
    "\n",
    "def teachers(number):\n",
    "    print(f\"the num of teachers {number}\")\n",
    "\n",
    "if __name__ == \"__main__\":\n",
    "    num_processes = 3\n",
    "    pool = multiprocessing.Pool(processes=num_processes)\n",
    "    \n",
    "    for i in range(num_processes):\n",
    "        pool.apply_async(teachers, args=(i,))\n",
    "    \n",
    "    pool.close()\n",
    "    pool.join()\n",
    "    print(\"Main process\")\n"
   ]
  },
  {
   "cell_type": "code",
   "execution_count": 6,
   "id": "ad273999-668a-472b-9c05-7d981a7fa4f6",
   "metadata": {},
   "outputs": [
    {
     "name": "stdout",
     "output_type": "stream",
     "text": [
      "Process 0 prints: 0\n",
      "Process 1 prints: 1\n",
      "Process 2 prints: 2\n",
      "Process 3 prints: 3\n",
      "All processes finished\n"
     ]
    }
   ],
   "source": [
    "#Q6. Write a Python program to create 4 processes, each process should print a different number using the multiprocessing module in Python:\n",
    "import multiprocessing\n",
    "\n",
    "def print_number(number):\n",
    "    print(f\"Process {number} prints: {number}\")\n",
    "\n",
    "if __name__ == \"__main__\":\n",
    "    processes = []\n",
    "    \n",
    "    for i in range(4):\n",
    "        process = multiprocessing.Process(target=print_number, args=(i,))\n",
    "        processes.append(process)\n",
    "        process.start()\n",
    "    \n",
    "    for process in processes:\n",
    "        process.join()\n",
    "    \n",
    "    print(\"All processes finished\")\n"
   ]
  },
  {
   "cell_type": "code",
   "execution_count": null,
   "id": "ab75b2a8-5c5a-4763-ba02-3f6969a3e5b6",
   "metadata": {},
   "outputs": [],
   "source": []
  }
 ],
 "metadata": {
  "kernelspec": {
   "display_name": "Python 3 (ipykernel)",
   "language": "python",
   "name": "python3"
  },
  "language_info": {
   "codemirror_mode": {
    "name": "ipython",
    "version": 3
   },
   "file_extension": ".py",
   "mimetype": "text/x-python",
   "name": "python",
   "nbconvert_exporter": "python",
   "pygments_lexer": "ipython3",
   "version": "3.10.8"
  }
 },
 "nbformat": 4,
 "nbformat_minor": 5
}
