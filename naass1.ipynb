{
 "cells": [
  {
   "cell_type": "markdown",
   "metadata": {},
   "source": [
    "Q1. What is Bayes' theorem?\n",
    "\n",
    "Bayes' theorem, named after Thomas Bayes, is a fundamental formula in probability theory that helps you calculate the conditional probability of an event A occurring, given that another event B has already happened. It essentially allows you to update your beliefs about an event based on new evidence."
   ]
  },
  {
   "cell_type": "markdown",
   "metadata": {},
   "source": [
    "q2. What is the formula for Bayes' theorem?\n",
    "\n",
    "P(A | B) = ( P(B | A) * P(A) ) / P(B)\n",
    "\n",
    "Where:\n",
    "\n",
    "P(A | B) is the probability of event A happening given that event B has already happened. This is what you're trying to find out.\n",
    "P(B | A) is the probability of event B happening given that event A has already happened. This is sometimes called the \"likelihood\" of B given A.\n",
    "P(A) is the probability of event A happening in general, regardless of anything else. This is called the \"prior probability\" of A.\n",
    "P(B) is the probability of event B happening in general, regardless of whether A happens or not."
   ]
  },
  {
   "cell_type": "markdown",
   "metadata": {},
   "source": [
    "Q3. How is Bayes' theorem used in practice?\n",
    "\n",
    "Bayes' theorem has surprising applications across various fields. Here are some examples:\n",
    "\n",
    "Spam filtering: Classifying emails as spam or not based on keywords and past classifications.\n",
    "Medical diagnosis: Estimating the probability of a disease based on symptoms and test results.\n",
    "Machine learning: Building classifiers that automatically learn from data.\n",
    "Financial risk assessment: Evaluating the creditworthiness of loan applicants."
   ]
  },
  {
   "cell_type": "markdown",
   "metadata": {},
   "source": [
    "Q4. What is the relationship between Bayes' theorem and conditional probability?\n",
    "\n",
    "Bayes' theorem is directly related to conditional probability. It provides a specific way to calculate a conditional probability using other known probabilities. Conditional probability asks \"what is the chance of event A happening if we already know event B happened?\", and Bayes' theorem gives you the formula to answer that question.\n",
    "\n"
   ]
  },
  {
   "cell_type": "markdown",
   "metadata": {},
   "source": [
    "Q5. How do you choose which type of Naive Bayes classifier to use for any given problem?\n",
    "\n",
    "Naive Bayes classifiers are a specific type of machine learning algorithm inspired by Bayes' theorem. They assume independence between features, which might not always be true in reality. Here's how to choose the right type:\n",
    "\n",
    "Multinomial Naive Bayes: Suitable for text classification when features are word counts.\n",
    "Gaussian Naive Bayes: Works well for continuous features following a normal distribution.\n",
    "Bernoulli Naive Bayes: Ideal for binary features (present/absent).\n",
    "The best choice depends on the nature of your data, features, and problem. Consider trying different options and comparing their performance."
   ]
  },
  {
   "cell_type": "markdown",
   "metadata": {},
   "source": [
    "Q6. Assignment:\n",
    "You have a dataset with two features, X1 and X2, and two possible classes, A and B. You want to use Naive\n",
    "Bayes to classify a new instance with features X1 = 3 and X2 = 4. The following table shows the frequency of\n",
    "each feature value for each class:\n",
    "Class X1=1 X1=2 X1=3 X2=1 X2=2 X2=3 X2=4\n",
    "A 3 3 4 4 3 3 3\n",
    "B 2 2 1 2 2 2 3\n",
    "Assuming equal prior probabilities for each class, which class would Naive Bayes predict the new instance\n",
    "to belong to?\n",
    "\n",
    "Given the frequency table provided, let's calculate the likelihoods for both classes:\n",
    "\n",
    "For class A:\n",
    "P(X1=3 | A) = 4/10\n",
    "P(X2=4 | A) = 3/10\n",
    "\n",
    "For class B:\n",
    "P(X1=3 | B) = 1/7\n",
    "P(X2=4 | B) = 3/7\n",
    "\n",
    "Now, let's calculate the likelihood for each class and choose the class with the highest likelihood:\n",
    "\n",
    "For class A:\n",
    "P(A | X1=3, X2=4) ∝ (4/10) * (3/10) = 12/100\n",
    "\n",
    "For class B:\n",
    "P(B | X1=3, X2=4) ∝ (1/7) * (3/7) = 3/49"
   ]
  }
 ],
 "metadata": {
  "language_info": {
   "name": "python"
  }
 },
 "nbformat": 4,
 "nbformat_minor": 2
}
