{
 "cells": [
  {
   "cell_type": "code",
   "execution_count": 1,
   "id": "d5d7bac3-b48c-42d4-961a-94f50c9eaad1",
   "metadata": {},
   "outputs": [],
   "source": [
    "\"\"\"Q1, Create a vehicle class with an init method having instance variables as name_of_vehicle, max_speed\n",
    "and average_of_vehicle.\"\"\"\n",
    "class vehicle:\n",
    "    def __init__(self,name,max_speed,avg_speed):\n",
    "        self.name=name\n",
    "        self.max_speed=max_speed\n",
    "        self.avg_speed=avg_speed\n",
    "    def vehicle_details(self):\n",
    "        print(self.name,self.avg_speed,self.max_speed)"
   ]
  },
  {
   "cell_type": "code",
   "execution_count": 2,
   "id": "c1b7403b-a81b-4e13-915e-94849e7ba718",
   "metadata": {},
   "outputs": [],
   "source": [
    "v1=vehicle(\"Kia\",200,80)"
   ]
  },
  {
   "cell_type": "code",
   "execution_count": 3,
   "id": "276bcf32-6743-4406-9560-255d72e93f00",
   "metadata": {},
   "outputs": [
    {
     "name": "stdout",
     "output_type": "stream",
     "text": [
      "Kia 80 200\n"
     ]
    }
   ],
   "source": [
    "v1.vehicle_details()"
   ]
  },
  {
   "cell_type": "code",
   "execution_count": 24,
   "id": "5a69614e-7572-49c0-82e0-b64877967ba4",
   "metadata": {},
   "outputs": [],
   "source": [
    "\"\"\"Q2. Create a child class car from the vehicle class created in Que 1, which will inherit the vehicle class.\n",
    "Create a method named seating_capacity which takes capacity as an argument and returns the name of\n",
    "the vehicle and its seating capacity.\"\"\"\n",
    "class car:\n",
    "    def _init_(self,name,model):\n",
    "        self.name=name\n",
    "        self.model=model"
   ]
  },
  {
   "cell_type": "code",
   "execution_count": 34,
   "id": "4c481a2b-bd5c-4476-b795-145b2722b281",
   "metadata": {},
   "outputs": [],
   "source": [
    "class vehicle(car):\n",
    "    def __init__(self,name,model,capacity):\n",
    "        super()._init_(name,model)\n",
    "        self.capacity=capacity\n",
    "    def vehicle_details(self):\n",
    "        return self.name,self.capacity"
   ]
  },
  {
   "cell_type": "code",
   "execution_count": 35,
   "id": "2a5cf1d2-5911-413d-88b7-ff97aa1cd679",
   "metadata": {},
   "outputs": [],
   "source": [
    "veh1=vehicle(\"kia\",2023,5)"
   ]
  },
  {
   "cell_type": "code",
   "execution_count": 36,
   "id": "6580d0f4-9cbc-46f9-8ff4-4c568d43d7d4",
   "metadata": {},
   "outputs": [
    {
     "data": {
      "text/plain": [
       "('kia', 5)"
      ]
     },
     "execution_count": 36,
     "metadata": {},
     "output_type": "execute_result"
    }
   ],
   "source": [
    "veh1.vehicle_details()"
   ]
  },
  {
   "cell_type": "code",
   "execution_count": 38,
   "id": "b468f1ad-c081-417a-b462-fce8a09297bb",
   "metadata": {},
   "outputs": [],
   "source": [
    "\"\"\"Q3. What is multiple inheritance? Write a python code to demonstrate multiple inheritance.\"\"\"\n",
    "#multipe inheritance\n",
    "#accquring properties more than one base class\n",
    "class t1:\n",
    "    def test_t1(self):\n",
    "        print(\"t1 class\")"
   ]
  },
  {
   "cell_type": "code",
   "execution_count": 39,
   "id": "aedc71ee-2c58-4c0b-ad7e-85f5d685189d",
   "metadata": {},
   "outputs": [],
   "source": [
    "class t2:\n",
    "    def test_t2(self):\n",
    "        print(\"t2 class\")"
   ]
  },
  {
   "cell_type": "code",
   "execution_count": 40,
   "id": "a8332ceb-7fef-498c-9a28-da33433ed9c1",
   "metadata": {},
   "outputs": [],
   "source": [
    "class t3(t1,t2):\n",
    "    pass"
   ]
  },
  {
   "cell_type": "code",
   "execution_count": 42,
   "id": "80a6976a-4511-4052-b52a-373a209faaa0",
   "metadata": {},
   "outputs": [],
   "source": [
    "t=t3()"
   ]
  },
  {
   "cell_type": "code",
   "execution_count": 43,
   "id": "b3ecddb7-6296-4400-bd6f-95bbf8b12dac",
   "metadata": {},
   "outputs": [
    {
     "name": "stdout",
     "output_type": "stream",
     "text": [
      "t1 class\n"
     ]
    }
   ],
   "source": [
    "t.test_t1()"
   ]
  },
  {
   "cell_type": "code",
   "execution_count": 45,
   "id": "14b191f0-b124-4c21-a481-a72a4613e005",
   "metadata": {},
   "outputs": [
    {
     "name": "stdout",
     "output_type": "stream",
     "text": [
      "t2 class\n"
     ]
    }
   ],
   "source": [
    "t.test_t2()"
   ]
  },
  {
   "cell_type": "code",
   "execution_count": 49,
   "id": "d5ca37cf-b374-4b9c-b6a3-e91a3ec6a931",
   "metadata": {},
   "outputs": [],
   "source": [
    "\"\"\"Q4. What are getter and setter in python? Create a class and create a getter and a setter method in this\n",
    "class.\"\"\"\n",
    "#setter\n",
    "\"\"\"Modifying the private variable setter is used\"\"\"\n",
    "#getter\n",
    "\"\"\"deleting the private variable getter is used\"\"\"\n",
    "class Goutham:\n",
    "    def __init__(self,name):\n",
    "        self.__name=name\n",
    "    @property\n",
    "    def name_access(self):\n",
    "        return self.__name\n",
    "    @name_access.setter\n",
    "    def name_access_set(self,new_name):\n",
    "            self.__name=new_name"
   ]
  },
  {
   "cell_type": "code",
   "execution_count": 51,
   "id": "16866da9-7555-4258-b91f-c14dc73649a9",
   "metadata": {},
   "outputs": [],
   "source": [
    "g=Goutham(\"Nayini Goutham\")"
   ]
  },
  {
   "cell_type": "code",
   "execution_count": 53,
   "id": "435ecb4a-6023-4435-8cc6-8398954c181d",
   "metadata": {},
   "outputs": [
    {
     "data": {
      "text/plain": [
       "'Nayini Goutham'"
      ]
     },
     "execution_count": 53,
     "metadata": {},
     "output_type": "execute_result"
    }
   ],
   "source": [
    "g.name_access"
   ]
  },
  {
   "cell_type": "code",
   "execution_count": 54,
   "id": "c93435ad-bccf-4d54-9627-1ace76c52615",
   "metadata": {},
   "outputs": [],
   "source": [
    "g.name_access_set=\"lokeshwari\""
   ]
  },
  {
   "cell_type": "code",
   "execution_count": 55,
   "id": "e10ba6cb-c78d-4656-9200-63b39727e099",
   "metadata": {},
   "outputs": [
    {
     "data": {
      "text/plain": [
       "'lokeshwari'"
      ]
     },
     "execution_count": 55,
     "metadata": {},
     "output_type": "execute_result"
    }
   ],
   "source": [
    "g.name_access"
   ]
  },
  {
   "cell_type": "code",
   "execution_count": 60,
   "id": "b9f3678b-b2d6-4eaa-b978-013fed1605e9",
   "metadata": {},
   "outputs": [
    {
     "name": "stdout",
     "output_type": "stream",
     "text": [
      "This is h1 class\n",
      "This is the h2 class\n"
     ]
    }
   ],
   "source": [
    "\"\"\"Q5.What is method overriding in python? Write a python code to demonstrate method overriding.\"\"\"\n",
    "\"\"\"A subclass provides a specific implementation for a method that is already defined in its parent class\"\"\"\n",
    "class h1:\n",
    "    def show_message(self):\n",
    "        print(\"This is h1 class\")\n",
    "\n",
    "\n",
    "class h2(h1):\n",
    "    def show_message(self):  \n",
    "        print(\"This is the h2 class\")\n",
    "\n",
    "\n",
    "h1_obi=h1()\n",
    "h2_obj=h2()\n",
    "\n",
    "h1_obi.show_message()  \n",
    "h2_obj.show_message()   \n"
   ]
  },
  {
   "cell_type": "code",
   "execution_count": null,
   "id": "cbab17ad-bf23-433d-8976-84d5a53b5d3a",
   "metadata": {},
   "outputs": [],
   "source": []
  }
 ],
 "metadata": {
  "kernelspec": {
   "display_name": "Python 3 (ipykernel)",
   "language": "python",
   "name": "python3"
  },
  "language_info": {
   "codemirror_mode": {
    "name": "ipython",
    "version": 3
   },
   "file_extension": ".py",
   "mimetype": "text/x-python",
   "name": "python",
   "nbconvert_exporter": "python",
   "pygments_lexer": "ipython3",
   "version": "3.10.8"
  }
 },
 "nbformat": 4,
 "nbformat_minor": 5
}
