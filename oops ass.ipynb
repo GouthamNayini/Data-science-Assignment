{
 "cells": [
  {
   "cell_type": "code",
   "execution_count": 2,
   "id": "5dad7f96-f446-4236-bad2-087adff6934c",
   "metadata": {},
   "outputs": [],
   "source": [
    "\"\"\"Q1. Explain Class and Object with respect to Object-Oriented Programming. Give a suitable example.\"\"\"\n",
    "#class\n",
    "\"\"\" class is blue print of real world entity objects \"\"\"\n",
    "#object\n",
    "#object is instance of class\n",
    "class bike:\n",
    "    def __init__(self,model,enginecc,company_name):\n",
    "        self.model=model\n",
    "        self.enginecc=enginecc\n",
    "        self.company_name=company_name\n",
    "    def bike_details(self):\n",
    "        return self.model,self.enginecc,self.company_name\n"
   ]
  },
  {
   "cell_type": "code",
   "execution_count": 3,
   "id": "e56102f3-94a8-4b56-92cf-b26584118bc8",
   "metadata": {},
   "outputs": [],
   "source": [
    "activa=bike(2022,125,\"Honda\")"
   ]
  },
  {
   "cell_type": "code",
   "execution_count": 4,
   "id": "f0c5ac4f-0f97-4887-bc9e-a9b19e99fc3c",
   "metadata": {},
   "outputs": [
    {
     "data": {
      "text/plain": [
       "(2022, 125, 'Honda')"
      ]
     },
     "execution_count": 4,
     "metadata": {},
     "output_type": "execute_result"
    }
   ],
   "source": [
    "activa.bike_details()"
   ]
  },
  {
   "cell_type": "code",
   "execution_count": 5,
   "id": "86cd643e-9416-44e5-847f-3a44f64c75fb",
   "metadata": {},
   "outputs": [
    {
     "name": "stdout",
     "output_type": "stream",
     "text": [
      "\n"
     ]
    }
   ],
   "source": [
    "\"\"\"Q2. Name the four pillars of OOPs.\"\"\"\n",
    "#Polymorphism\n",
    "\"\"\" Polymorphism means the ability of objects to take on multiple forms and \n",
    "Polymorphism allows different classes to be treated uniformly through a common interface, increasing flexibility and maintainability in the code.\n",
    "\"\"\"\n",
    "#Inheritance\n",
    "\"\"\" Accquring properties from partent class to child class\n",
    "the methods and behaviours is been accquired\"\"\"\n",
    "#Encapsulation\n",
    "\"\"\" Its is hiding the data And preventing direct access of data\"\"\"\n",
    "#Abstraction\n",
    "\"\"\"It is blue print to create abstract methods and It hides the implementation details and exposes only the essential features\"\"\"\n",
    "print(\"\")"
   ]
  },
  {
   "cell_type": "code",
   "execution_count": 6,
   "id": "5bf8c799-b9ce-468f-af4e-5400fcb5cfe5",
   "metadata": {},
   "outputs": [],
   "source": [
    "\"\"\"Q3. Explain why the __init__() function is used. Give a suitable example.\"\"\"\n",
    "#_init__ is must needed for creating the values for the class\n",
    "class bike:\n",
    "    def __init__(self,model,enginecc,company_name):\n",
    "        self.model=model\n",
    "        self.enginecc=enginecc\n",
    "        self.company_name=company_name\n",
    "    def bike_details(self):\n",
    "        return self.model,self.enginecc,self.company_name\n"
   ]
  },
  {
   "cell_type": "code",
   "execution_count": 7,
   "id": "3f385322-9e7d-4955-a3dd-8b7f12ff6399",
   "metadata": {},
   "outputs": [],
   "source": [
    "activa=bike(2022,125,\"Honda\")\n"
   ]
  },
  {
   "cell_type": "code",
   "execution_count": 8,
   "id": "bb3be4fc-64cf-46c3-b85c-f915f0895e1a",
   "metadata": {},
   "outputs": [
    {
     "data": {
      "text/plain": [
       "(2022, 125, 'Honda')"
      ]
     },
     "execution_count": 8,
     "metadata": {},
     "output_type": "execute_result"
    }
   ],
   "source": [
    "activa.bike_details()"
   ]
  },
  {
   "cell_type": "code",
   "execution_count": 11,
   "id": "77f72ba5-dcf0-4a61-8641-2e217b0185c4",
   "metadata": {},
   "outputs": [],
   "source": [
    "\"\"\"Q4. Why self is used in OOPs?\"\"\"\n",
    "#self is pointer thats points to class and self is not an keyword/ it is just a refernce\n",
    "class pwskills:\n",
    "    def name(self):\n",
    "        return \"goutham\""
   ]
  },
  {
   "cell_type": "code",
   "execution_count": 12,
   "id": "bcb33117-c352-4ded-b3c0-d5706b6cdff8",
   "metadata": {},
   "outputs": [],
   "source": [
    "pw=pwskills()"
   ]
  },
  {
   "cell_type": "code",
   "execution_count": 14,
   "id": "d5a23bee-201b-4e02-8e57-8d1cce8a139f",
   "metadata": {},
   "outputs": [
    {
     "data": {
      "text/plain": [
       "'goutham'"
      ]
     },
     "execution_count": 14,
     "metadata": {},
     "output_type": "execute_result"
    }
   ],
   "source": [
    "pw.name()"
   ]
  },
  {
   "cell_type": "code",
   "execution_count": 76,
   "id": "dbb347f9-ed6d-4945-9625-dfe1548d66d2",
   "metadata": {},
   "outputs": [],
   "source": [
    "\"\"\"Q5. What is inheritance? Give an example for each type of inheritance.\"\"\"\n",
    "#Inheritance\n",
    "#Inheritance\n",
    "\"\"\" Accquring properties from partent class to child class\n",
    "the methods and behaviours is been accquired\"\"\"\n",
    "class t1:\n",
    "    def test_t1(self):\n",
    "        print(\"t1 class\")\n",
    "        "
   ]
  },
  {
   "cell_type": "code",
   "execution_count": 77,
   "id": "062c4243-cc5e-4933-b971-0f0ebf890748",
   "metadata": {},
   "outputs": [],
   "source": [
    "class t2(t1):\n",
    "    def test_t2(self):\n",
    "        print(\"t2 claass\")"
   ]
  },
  {
   "cell_type": "code",
   "execution_count": 78,
   "id": "9e2b4815-c177-498d-b505-f6655b64a8a8",
   "metadata": {},
   "outputs": [],
   "source": [
    "t11=t1()"
   ]
  },
  {
   "cell_type": "code",
   "execution_count": 79,
   "id": "f4c853df-f95d-4cb4-bb3f-a26065a52595",
   "metadata": {},
   "outputs": [],
   "source": [
    "t22=t2()"
   ]
  },
  {
   "cell_type": "code",
   "execution_count": 80,
   "id": "a7abba5b-841e-4c64-8a61-1eb9a2c02be5",
   "metadata": {},
   "outputs": [
    {
     "name": "stdout",
     "output_type": "stream",
     "text": [
      "t1 class\n"
     ]
    }
   ],
   "source": [
    "t22.test_t1()"
   ]
  },
  {
   "cell_type": "code",
   "execution_count": null,
   "id": "35df4c03-8e0e-4589-b757-13718de9cde0",
   "metadata": {},
   "outputs": [],
   "source": []
  }
 ],
 "metadata": {
  "kernelspec": {
   "display_name": "Python 3 (ipykernel)",
   "language": "python",
   "name": "python3"
  },
  "language_info": {
   "codemirror_mode": {
    "name": "ipython",
    "version": 3
   },
   "file_extension": ".py",
   "mimetype": "text/x-python",
   "name": "python",
   "nbconvert_exporter": "python",
   "pygments_lexer": "ipython3",
   "version": "3.10.8"
  }
 },
 "nbformat": 4,
 "nbformat_minor": 5
}
