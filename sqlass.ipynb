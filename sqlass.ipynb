{
 "cells": [
  {
   "cell_type": "code",
   "execution_count": 1,
   "id": "7866d4b8-b020-466f-8c53-983649af536f",
   "metadata": {},
   "outputs": [],
   "source": [
    "#Q1. What is a database? Differentiate between SQL and NoSQL databases.\n",
    "\n",
    "#A database is a structured collection of data that is organized and stored for efficient retrieval and manipulation. It serves as a reliable way to manage and store data, ensuring data integrity and providing mechanisms for querying and modifying the data.\n",
    "\n",
    "#SQL (Structured Query Language) Databases:\n",
    "\n",
    "\"\"\"SQL databases are relational databases that store data in structured tables with rows and columns.\n",
    "They use a predefined schema to determine the structure of data.\n",
    "SQL databases ensure data consistency and support ACID (Atomicity, Consistency, Isolation, Durability) transactions.\n",
    "Examples: MySQL, PostgreSQL, Oracle Database, SQL Server.\n",
    "NoSQL (Not Only SQL) Databases:\n",
    "\n",
    "NoSQL databases are designed to handle unstructured, semi-structured, or highly distributed data.\n",
    "They don't rely on fixed schemas and are more flexible for handling various data formats.\n",
    "NoSQL databases can handle high volumes of data and provide horizontal scalability.\n",
    "Examples: MongoDB (document-based), Cassandra (column-based), Redis (key-value store).\"\"\""
   ]
  },
  {
   "cell_type": "code",
   "execution_count": null,
   "id": "c3e922d3-96a5-44b8-be31-c926506d18a9",
   "metadata": {},
   "outputs": [],
   "source": [
    "\"\"\"Q2. What is DDL? Explain why CREATE, DROP, ALTER, and TRUNCATE are used with an example.\n",
    "\n",
    "DDL (Data Definition Language) is a subset of SQL used to define and manage the structure of database objects like tables, indexes, and constraints.\n",
    "\n",
    "CREATE: Used to create a new database object.\n",
    "DROP: Used to remove a database object.\n",
    "ALTER: Used to modify the structure of an existing database object.\n",
    "TRUNCATE: Used to delete all rows from a table without removing the table structure.\"\"\"\n"
   ]
  },
  {
   "cell_type": "code",
   "execution_count": 2,
   "id": "0d564307-bf42-4bd6-94b2-dfb8d9e7012d",
   "metadata": {},
   "outputs": [
    {
     "data": {
      "text/plain": [
       "'Q3. What is DML? Explain INSERT, UPDATE, and DELETE with an example.\\n\\nDML (Data Manipulation Language) is a subset of SQL used to manipulate the data stored in the database.\\n\\nINSERT: Used to add new records to a table.\\nUPDATE: Used to modify existing records in a table.\\nDELETE: Used to remove records from a table.'"
      ]
     },
     "execution_count": 2,
     "metadata": {},
     "output_type": "execute_result"
    }
   ],
   "source": [
    "\"\"\"Q3. What is DML? Explain INSERT, UPDATE, and DELETE with an example.\n",
    "\n",
    "DML (Data Manipulation Language) is a subset of SQL used to manipulate the data stored in the database.\n",
    "\n",
    "INSERT: Used to add new records to a table.\n",
    "UPDATE: Used to modify existing records in a table.\n",
    "DELETE: Used to remove records from a table.\"\"\""
   ]
  },
  {
   "cell_type": "code",
   "execution_count": 4,
   "id": "95372e6d-159d-44d7-8dcf-38b697f52270",
   "metadata": {},
   "outputs": [
    {
     "data": {
      "text/plain": [
       "'Q4. What is DQL? Explain SELECT with an example.\\n\\nDQL (Data Query Language) is a subset of SQL used to retrieve data from a database.\\n\\nSELECT: Used to retrieve data from one or more tables'"
      ]
     },
     "execution_count": 4,
     "metadata": {},
     "output_type": "execute_result"
    }
   ],
   "source": [
    "\"\"\"Q4. What is DQL? Explain SELECT with an example.\n",
    "\n",
    "DQL (Data Query Language) is a subset of SQL used to retrieve data from a database.\n",
    "\n",
    "SELECT: Used to retrieve data from one or more tables\"\"\""
   ]
  },
  {
   "cell_type": "code",
   "execution_count": 5,
   "id": "73fbea76-e453-4283-83e8-ec0199927dcd",
   "metadata": {},
   "outputs": [
    {
     "data": {
      "text/plain": [
       "\"Q5. Explain Primary Key and Foreign Key.\\n\\nPrimary Key: A primary key is a unique identifier for a row in a table. It ensures that each row has a unique identity and is used to enforce entity integrity. It's often used to establish relationships between tables.\\n\\nForeign Key: A foreign key is a column or set of columns in one table that refers to the primary key of another table. It establishes a link between tables, creating relationships. It helps enforce referential integrity and maintains data consistency.\""
      ]
     },
     "execution_count": 5,
     "metadata": {},
     "output_type": "execute_result"
    }
   ],
   "source": [
    "\"\"\"Q5. Explain Primary Key and Foreign Key.\n",
    "\n",
    "Primary Key: A primary key is a unique identifier for a row in a table. It ensures that each row has a unique identity and is used to enforce entity integrity. It's often used to establish relationships between tables.\n",
    "\n",
    "Foreign Key: A foreign key is a column or set of columns in one table that refers to the primary key of another table. It establishes a link between tables, creating relationships. It helps enforce referential integrity and maintains data consistency.\"\"\""
   ]
  },
  {
   "cell_type": "code",
   "execution_count": null,
   "id": "67ca16bf-c0a4-4a72-b6da-b9b34ba112de",
   "metadata": {},
   "outputs": [],
   "source": [
    "\"\"\"Q7. Give the order of execution of SQL clauses in an SQL query.\n",
    "\n",
    "In a standard SQL query, the order of clauses is typically as follows:\n",
    "\n",
    "SELECT\n",
    "FROM\n",
    "WHERE\n",
    "GROUP BY\n",
    "HAVING\n",
    "ORDER BY\n",
    "LIMIT/OFFSET\"\"\""
   ]
  }
 ],
 "metadata": {
  "kernelspec": {
   "display_name": "Python 3 (ipykernel)",
   "language": "python",
   "name": "python3"
  },
  "language_info": {
   "codemirror_mode": {
    "name": "ipython",
    "version": 3
   },
   "file_extension": ".py",
   "mimetype": "text/x-python",
   "name": "python",
   "nbconvert_exporter": "python",
   "pygments_lexer": "ipython3",
   "version": "3.10.8"
  }
 },
 "nbformat": 4,
 "nbformat_minor": 5
}
