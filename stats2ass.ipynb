{
 "cells": [
  {
   "cell_type": "markdown",
   "metadata": {},
   "source": [
    "Q1. What are the three measures of central tendency?\n",
    "\n",
    "Measures of Central Tendency:\n",
    "Mean:\n",
    "Definition: The mean, or average, is calculated by summing up all the values in a dataset and dividing by the number of observations.\n",
    "Use: It represents the typical or central value of a dataset. The mean is sensitive to extreme values (outliers) and provides a balance point for the distribution.\n",
    "\n",
    "Median:\n",
    "Definition: The median is the middle value when a dataset is ordered. If there is an even number of observations, it's the average of the two middle values.\n",
    "Use: The median is less sensitive to extreme values than the mean. It's a measure of central tendency that's appropriate when the data may have outliers.\n",
    "\n",
    "Mode:\n",
    "Definition: The mode is the value that appears most frequently in a dataset.\n",
    "Use: It identifies the most common value in a dataset. While not as frequently used as the mean or median, it's useful for categorical or discrete data.\n"
   ]
  },
  {
   "cell_type": "markdown",
   "metadata": {},
   "source": [
    "Q2. What is the difference between the mean, median, and mode? How are they used to measure the\n",
    "central tendency of a dataset?\n",
    "\n",
    "Mean: Mean gives average value of data points\n",
    "median median gives atmost middle value\n",
    "mode:mode is most repeated value\n"
   ]
  },
  {
   "cell_type": "markdown",
   "metadata": {},
   "source": [
    "Q3. Measure the three measures of central tendency for the given height data:\n",
    "[178,177,176,177,178.2,178,175,179,180,175,178.9,176.2,177,172.5,178,176.5]\n",
    "\n"
   ]
  },
  {
   "cell_type": "code",
   "execution_count": 4,
   "metadata": {},
   "outputs": [
    {
     "name": "stdout",
     "output_type": "stream",
     "text": [
      "177.01875\n",
      "177.0\n",
      "ModeResult(mode=177.0, count=3)\n"
     ]
    }
   ],
   "source": [
    "l1=[178,177,176,177,178.2,178,175,179,180,175,178.9,176.2,177,172.5,178,176.5]\n",
    "import numpy as np\n",
    "print(np.mean(l1))\n",
    "print(np.median(l1))\n",
    "from scipy import stats\n",
    "print(stats.mode(l1))"
   ]
  },
  {
   "cell_type": "markdown",
   "metadata": {},
   "source": [
    "Q4. Find the standard deviation for the given data:\n",
    "[178,177,176,177,178.2,178,175,179,180,175,178.9,176.2,177,172.5,178,176.5]"
   ]
  },
  {
   "cell_type": "code",
   "execution_count": 5,
   "metadata": {},
   "outputs": [
    {
     "name": "stdout",
     "output_type": "stream",
     "text": [
      "1.7885814036548633\n",
      "3.199023437500001\n"
     ]
    }
   ],
   "source": [
    "print(np.std(l1))\n",
    "print(np.var(l1))"
   ]
  },
  {
   "cell_type": "markdown",
   "metadata": {},
   "source": [
    "Q5. How are measures of dispersion such as range, variance, and standard deviation used to describe\n",
    "the spread of a dataset? Provide an example.\n",
    "\n",
    "Measures of Dispersion:\n",
    "\n",
    "Range:\n",
    "Definition: Range is the difference between the maximum and minimum values in a dataset.\n",
    "Use: It provides a simple measure of the spread of data. However, it is sensitive to outliers and might not be a robust measure for highly skewed distributions.\n",
    "Example: If you have a dataset of test scores, a small range indicates that most scores are close together, while a large range suggests greater variability in scores.\n",
    "\n",
    "Variance:\n",
    "Definition: Variance measures how far each data point in the set is from the mean. It is the average of the squared differences between each data point and the mean.\n",
    "Use: It provides a more precise measure of data spread than the range. However, it is in squared units, which can be less interpretable.\n",
    "Example: In a dataset of heights, a low variance indicates that most heights are close to the mean, while a high variance suggests greater variability.\n",
    "\n",
    "Standard Deviation:\n",
    "Definition: The standard deviation is the square root of the variance. It represents the average distance of data points from the mean.\n",
    "Use: Like variance, the standard deviation measures the spread of data. It is commonly used due to its compatibility with the original units of measurement.\n",
    "Example: If you have a dataset of monthly sales figures, a low standard deviation indicates consistent sales, while a high standard deviation suggests more fluctuation."
   ]
  },
  {
   "cell_type": "markdown",
   "metadata": {},
   "source": [
    "Q6. What is a Venn diagram?\n",
    "\n",
    "A Venn diagram is a visual representation of the relationships between different sets or groups. It uses overlapping circles or other shapes to illustrate the extent to which different sets have common elements. The primary purpose of a Venn diagram is to show the logical relationships between these sets."
   ]
  },
  {
   "cell_type": "markdown",
   "metadata": {},
   "source": [
    "Q7. For the two given sets A = (2,3,4,5,6,7) & B = (0,2,6,8,10). Find:\n",
    "(i) A B\n",
    "(ii) A ⋃ B"
   ]
  },
  {
   "cell_type": "code",
   "execution_count": 9,
   "metadata": {},
   "outputs": [
    {
     "name": "stdout",
     "output_type": "stream",
     "text": [
      "{0, 2, 3, 4, 5, 6, 7, 8, 10}\n",
      "{2, 6}\n"
     ]
    }
   ],
   "source": [
    "A = {2,3,4,5,6,7}\n",
    "B = {0,2,6,8,10}\n",
    "print(A.union(B))\n",
    "print(A.intersection(B))"
   ]
  },
  {
   "cell_type": "markdown",
   "metadata": {},
   "source": [
    "Q8. What do you understand about skewness in data?"
   ]
  },
  {
   "cell_type": "markdown",
   "metadata": {},
   "source": [
    "Skewness is a measure of the asymmetry or departure from symmetry in a dataset's distribution. In other words, it quantifies the extent and direction of skew (departure from horizontal symmetry) in the data. A distribution can be positively skewed, negatively skewed, or approximately symmetric.\n",
    "\n",
    "Here are the key concepts related to skewness:\n",
    "\n",
    "Positive Skewness (Right Skew):\n",
    "\n",
    "In a positively skewed distribution, the tail on the right side is longer or fatter than the left side.\n",
    "The majority of the data points are concentrated on the left side, and the right tail is extended.\n",
    "The mean is typically greater than the median in a positively skewed distribution.\n",
    "\n",
    "Negative Skewness (Left Skew):\n",
    "\n",
    "In a negatively skewed distribution, the tail on the left side is longer or fatter than the right side.\n",
    "The majority of the data points are concentrated on the right side, and the left tail is extended.\n",
    "The mean is typically less than the median in a negatively skewed distribution.\n",
    "\n",
    "Zero Skewness (Symmetric):\n",
    "\n",
    "A perfectly symmetric distribution has zero skewness.\n",
    "The mean and median are equal in a symmetric distribution.\n",
    "Data points are equally distributed on both sides of the mean."
   ]
  },
  {
   "cell_type": "markdown",
   "metadata": {},
   "source": [
    "Q9. If a data is right skewed then what will be the position of median with respect to mean?\n",
    "\n",
    "mean>median>mode"
   ]
  },
  {
   "cell_type": "markdown",
   "metadata": {},
   "source": [
    "Q10. Explain the difference between covariance and correlation. How are these measures used in\n",
    "statistical analysis?\n",
    "\n",
    "Covariance: Covariance is used to understand the direction of the linear relationship between two variables. However, due to its lack of normalization, comparing covariances across different datasets or pairs of variables can be challenging.\n",
    "\n",
    "Correlation: Correlation is widely used in statistical analysis. It provides a standardized measure, making it easier to compare relationships between different pairs of variables. Correlation is commonly used in fields such as finance, biology, social sciences, and more, where understanding the strength and direction of relationships between variables is essential. The Pearson correlation coefficient is commonly used for linear relationships, but other correlation coefficients (e.g., Spearman's rank correlation) are used for non-linear relationships."
   ]
  },
  {
   "cell_type": "markdown",
   "metadata": {},
   "source": [
    "Q11. What is the formula for calculating the sample mean? Provide an example calculation for a\n",
    "dataset.\n",
    "\n",
    "mean= sum of observations/tot no of observations"
   ]
  },
  {
   "cell_type": "code",
   "execution_count": 12,
   "metadata": {},
   "outputs": [
    {
     "name": "stdout",
     "output_type": "stream",
     "text": [
      "177.01875\n"
     ]
    }
   ],
   "source": [
    "l1=[178,177,176,177,178.2,178,175,179,180,175,178.9,176.2,177,172.5,178,176.5]\n",
    "mean=sum(l1)/len(l1)\n",
    "print(mean)"
   ]
  },
  {
   "cell_type": "markdown",
   "metadata": {},
   "source": [
    "Q12. For a normal distribution data what is the relationship between its measure of central tendency?\n",
    "\n",
    "n a normal distribution:\n",
    "\n",
    "The mean is located at the center of the distribution.\n",
    "The median is also at the center, and for a perfectly symmetric normal distribution, the mean and median are equal.\n",
    "The mode, if it exists, is also at the center.\n",
    "In a perfectly symmetrical normal distribution, all measures of central tendency coincide. However, in skewed or non-symmetrical distributions, the mean is influenced by extreme values, and the median may provide a better measure of central tendency."
   ]
  },
  {
   "cell_type": "markdown",
   "metadata": {},
   "source": [
    "Q13. How is covariance different from correlation?\n",
    "\n",
    "Covariance: Covariance measures the degree to which two variables change together. It is not normalized and can take any value, positive or negative, depending on the direction of the relationship.\n",
    "\n",
    "Correlation: Correlation is a normalized measure that ranges between -1 and 1. It not only indicates the direction of the relationship but also its strength. A correlation of 1 indicates a perfect positive linear relationship, -1 indicates a perfect negative linear relationship, and 0 indicates no linear relationship.\n"
   ]
  },
  {
   "cell_type": "markdown",
   "metadata": {},
   "source": [
    "Q14. How do outliers affect measures of central tendency and dispersion? Provide an example.\n",
    "\n",
    "\n",
    "Central Tendency: Outliers can significantly impact the mean because they pull it toward their extreme values. The median is less sensitive to outliers, providing a more robust measure of central tendency.\n",
    "\n",
    "Dispersion: Outliers can increase the range and standard deviation, making these measures less representative of the majority of the data. The interquartile range (IQR) is less affected by outliers, making it a more robust measure of dispersion."
   ]
  }
 ],
 "metadata": {
  "kernelspec": {
   "display_name": "Python 3",
   "language": "python",
   "name": "python3"
  },
  "language_info": {
   "codemirror_mode": {
    "name": "ipython",
    "version": 3
   },
   "file_extension": ".py",
   "mimetype": "text/x-python",
   "name": "python",
   "nbconvert_exporter": "python",
   "pygments_lexer": "ipython3",
   "version": "3.11.7"
  }
 },
 "nbformat": 4,
 "nbformat_minor": 2
}
