{
 "cells": [
  {
   "cell_type": "markdown",
   "metadata": {},
   "source": [
    "Q1. What is the Probability density function?\n",
    "\n",
    "\n",
    "The Probability Density Function (PDF) is a concept in probability theory and statistics. It describes the likelihood of a continuous random variable falling within a particular range of values\n",
    "Ex:Heights of students\n"
   ]
  },
  {
   "cell_type": "markdown",
   "metadata": {},
   "source": [
    "Q2. What are the types of Probability distribution?\n",
    "\n",
    "1.Noramal distrubution\n",
    "2.Bernouli distrubution\n",
    "3.Uniform distrubution\n",
    "4.log Normal distrubution\n",
    "5.poisson distrubution\n",
    "6.power law distrubution\n",
    "7.Binomial distrubution\n"
   ]
  },
  {
   "cell_type": "markdown",
   "metadata": {},
   "source": [
    "from scipy.stats import norm \n",
    "import numpy as np \n",
    "  \n",
    "data_start = -5\n",
    "data_end = 5\n",
    "data_points = 11\n",
    "data = np.linspace(data_start, data_end, data_points) \n",
    "  \n",
    "mean = np.mean(data) \n",
    "std = np.std(data) \n",
    "  \n",
    "probability_pdf = norm.pdf(3, loc=mean, scale=std) \n",
    "print(probability_pdf) "
   ]
  },
  {
   "cell_type": "markdown",
   "metadata": {},
   "source": [
    "Q3. Write a Python function to calculate the probability density function of a normal distribution with\n",
    "given mean and standard deviation at a given point."
   ]
  },
  {
   "cell_type": "code",
   "execution_count": 3,
   "metadata": {},
   "outputs": [
    {
     "name": "stdout",
     "output_type": "stream",
     "text": [
      "0.029693397080574224\n"
     ]
    }
   ],
   "source": [
    "from scipy.stats import norm \n",
    "import numpy as np \n",
    "  \n",
    "data = np.linspace(1, 20, 20) \n",
    "  \n",
    "mean = np.mean(data) \n",
    "std = np.std(data) \n",
    "  \n",
    "probability_pdf = norm.pdf(3, loc=mean, scale=std) \n",
    "print(probability_pdf) "
   ]
  },
  {
   "cell_type": "markdown",
   "metadata": {},
   "source": [
    "Q4. What are the properties of Binomial distribution? Give two examples of events where binomial\n",
    "distribution can be applied.\n",
    "\n",
    "The binomial distribution is a discrete probability distribution that describes the number of successes in a fixed number of independent Bernoulli trials, where each trial has two possible outcomes (success or failure) and the probability of success is constant. The properties of a binomial distribution include:\n",
    "\n",
    "Fixed Number of Trials (n): The number of trials (experiments or events) is fixed in advance.\n",
    "\n",
    "Independent Trials: Each trial is independent of the others. The outcome of one trial does not affect the outcome of another.\n",
    "\n",
    "Two Possible Outcomes: Each trial has only two possible outcomes: success (usually denoted as \"1\") or failure (usually denoted as \"0\").\n",
    "\n",
    "Constant Probability of Success (p): The probability of success is the same for each trial and denoted as \"p.\"\n",
    "\n",
    "Discreteness: The random variable representing the number of successes is discrete and takes on integer values.\n",
    "\n",
    "EX: Coin Flipping\n",
    " Consider flipping a fair coin multiple times. Each flip is an independent trial with two possible outcomes (heads or tails), and the probability of getting heads (success) is constant for each flip."
   ]
  },
  {
   "cell_type": "markdown",
   "metadata": {},
   "source": [
    "Q5. Generate a random sample of size 1000 from a binomial distribution with probability of success 0.4\n",
    "and plot a histogram of the results using matplotlib."
   ]
  },
  {
   "cell_type": "code",
   "execution_count": 15,
   "metadata": {},
   "outputs": [
    {
     "data": {
      "image/png": "[encoded data removed]",
      "text/plain": [
       "<Figure size 640x480 with 1 Axes>"
      ]
     },
     "metadata": {},
     "output_type": "display_data"
    }
   ],
   "source": [
    "import numpy as np\n",
    "import matplotlib.pyplot as plt\n",
    "probability_of_success = 0.4\n",
    "sample_size = 1000\n",
    "random_sample = np.random.binomial(10, probability_of_success, sample_size)\n",
    "plt.hist(random_sample) \n",
    "plt.title('Binomial Distribution with p=0.4')\n",
    "plt.xlabel('Outcome')\n",
    "plt.ylabel('Frequency')\n",
    "plt.show()\n"
   ]
  },
  {
   "cell_type": "markdown",
   "metadata": {},
   "source": [
    "Q6. Write a Python function to calculate the cumulative distribution function of a Poisson distribution\n",
    "with given mean at a given point."
   ]
  },
  {
   "cell_type": "code",
   "execution_count": 21,
   "metadata": {},
   "outputs": [
    {
     "name": "stdout",
     "output_type": "stream",
     "text": [
      "The cumulative distribution function at 3 is 0.7575761331330659\n"
     ]
    }
   ],
   "source": [
    "import math\n",
    "\n",
    "def poisson_cdf(k, mean):\n",
    "    \n",
    "    if k < 0:\n",
    "        return 0  # CDF is 0 for negative values\n",
    "\n",
    "    cdf = 0\n",
    "    for i in range(k + 1):\n",
    "        cdf += math.exp(-mean) * (mean ** i) / math.factorial(i)\n",
    "\n",
    "    return cdf\n",
    "mean_value = 2.5\n",
    "point_to_calculate = 3\n",
    "result = poisson_cdf(point_to_calculate, mean_value)\n",
    "print(f\"The cumulative distribution function at {point_to_calculate} is {result}\")"
   ]
  },
  {
   "cell_type": "markdown",
   "metadata": {},
   "source": [
    "Q7. How Binomial distribution different from Poisson distribution?\n",
    "\n",
    "Binomial Distribution: Models the number of successes in a fixed number of independent and identical trials, each with two outcomes (success or failure).\n",
    "\n",
    "Poisson Distribution: Models the number of rare events in a fixed interval of time or space, assuming a constant average rate of occurrence."
   ]
  },
  {
   "cell_type": "markdown",
   "metadata": {},
   "source": [
    "Q8. Generate a random sample of size 1000 from a Poisson distribution with mean 5 and calculate the\n",
    "sample mean and variance."
   ]
  },
  {
   "cell_type": "code",
   "execution_count": 22,
   "metadata": {},
   "outputs": [
    {
     "name": "stdout",
     "output_type": "stream",
     "text": [
      "Sample Mean: 4.967\n",
      "Sample Variance: 4.927911\n"
     ]
    }
   ],
   "source": [
    "import numpy as np\n",
    "mean_value = 5\n",
    "sample_size = 1000\n",
    "random_sample = np.random.poisson(mean_value, sample_size)\n",
    "sample_mean = np.mean(random_sample)\n",
    "sample_variance = np.var(random_sample)\n",
    "print(f\"Sample Mean: {sample_mean}\")\n",
    "print(f\"Sample Variance: {sample_variance}\")\n"
   ]
  },
  {
   "cell_type": "markdown",
   "metadata": {},
   "source": [
    "How mean and variance are related in Binomial distribution and Poisson distribution?\n",
    "\n",
    "In the Binomial distribution, the variance depends on both the number of trials and the probability of success.\n",
    "In the Poisson distribution, the mean and variance are equal and are solely determined by the average rate "
   ]
  },
  {
   "cell_type": "markdown",
   "metadata": {},
   "source": [
    "Q10. In normal distribution with respect to mean position, where does the least frequent data appear?\n",
    "\n",
    "In a normal distribution, also known as a Gaussian distribution or bell curve, the data is symmetrically distributed around the mean. The least frequent data points are found in the tails of the distribution, farthest away from the mean.\n",
    "\n",
    "Specifically:\n",
    "\n",
    "The least frequent data points are in the tails of the distribution, both on the left (lower values) and on the right (higher values).\n",
    "The data becomes less frequent as you move away from the mean towards the tails.\n",
    "The extreme values in the tails are less likely to occur, making them the least frequent.\n",
    "In a normal distribution, approximately 68% of the data falls within one standard deviation of the mean, 95% within two standard deviations, and about 99.7% within three standard deviations. The data becomes increasingly sparse in the tails beyond these standard deviations, indicating the least frequent occurrences."
   ]
  }
 ],
 "metadata": {
  "kernelspec": {
   "display_name": "Python 3",
   "language": "python",
   "name": "python3"
  },
  "language_info": {
   "codemirror_mode": {
    "name": "ipython",
    "version": 3
   },
   "file_extension": ".py",
   "mimetype": "text/x-python",
   "name": "python",
   "nbconvert_exporter": "python",
   "pygments_lexer": "ipython3",
   "version": "3.11.7"
  }
 },
 "nbformat": 4,
 "nbformat_minor": 2
}
