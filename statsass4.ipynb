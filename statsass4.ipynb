{
 "cells": [
  {
   "cell_type": "markdown",
   "metadata": {},
   "source": [
    "Q1: What are the Probability Mass Function (PMF) and Probability Density Function (PDF)? Explain with\n",
    "an example.\n",
    "\n",
    "Probability Mass Function (PMF) is used for discrete random variables and gives the probability of each possible outcome. For example, consider a fair six-sided die. The PMF for rolling a 1 is 1/6, and similarly, for each other outcome.\n",
    "\n",
    "Probability Density Function (PDF) is used for continuous random variables. It represents the likelihood of a variable falling within a particular range of values. An example is the normal distribution, where the PDF gives the probability density at each point on the real number line."
   ]
  },
  {
   "cell_type": "markdown",
   "metadata": {},
   "source": [
    "Q2: What is Cumulative Density Function (CDF)? Explain with an example. Why CDF is used?\n",
    "\n",
    "The Cumulative Density Function (CDF) gives the probability that a random variable takes a value less than or equal to a given point. It is the integral of the PDF. For example, in a standard normal distribution, the CDF gives the probability that a random variable is less than or equal to a specific z-score.\n",
    "\n",
    "The CDF is used to calculate probabilities and percentiles, making it valuable in statistical analysis."
   ]
  },
  {
   "cell_type": "markdown",
   "metadata": {},
   "source": [
    "Q3: What are some examples of situations where the normal distribution might be used as a model?\n",
    "Explain how the parameters of the normal distribution relate to the shape of the distribution.\n",
    "\n",
    "Normal distribution is used in situations where data tends to cluster around a central point with symmetrically decreasing probabilities as values deviate further from the mean. Examples include heights of a population, IQ scores, and measurement errors.\n",
    "\n",
    "Parameters of the normal distribution are the mean (μ) and standard deviation (σ). A higher standard deviation results in a wider and flatter distribution."
   ]
  },
  {
   "cell_type": "markdown",
   "metadata": {},
   "source": [
    "Q4: Explain the importance of Normal Distribution. Give a few real-life examples of Normal\n",
    "Distribution.\n",
    "Normal distribution is important because of the Central Limit Theorem, making it a foundation for many statistical methods. Real-life examples include exam scores, blood pressure, and financial market returns."
   ]
  },
  {
   "cell_type": "markdown",
   "metadata": {},
   "source": [
    "Q5: What is Bernaulli Distribution? Give an Example. What is the difference between Bernoulli\n",
    "Distribution and Binomial Distribution?\n",
    "The Bernoulli Distribution models a single trial of a binary experiment, where there are only two possible outcomes. Typically, these outcomes are labeled as \"success\" and \"failure.\" The random variable in a Bernoulli distribution takes the value of 1 for success and 0 for failure. The probability of success is denoted by \n",
    "Example:\n",
    "Consider a single toss of a fair coin, where getting heads is considered a success (1) and tails is a failure (0) p(head)=0.5\n",
    "\n",
    "Difference between Bernoulli Distribution and Binomial Distribution:\n",
    "\n",
    "Number of Trials:\n",
    "Bernoulli Distribution: Represents a single trial of a binary experiment.\n",
    "Binomial Distribution: Represents the number of successes in a fixed number of independent Bernoulli trials.\n",
    "\n",
    "Variables:\n",
    "Bernoulli Distribution: Has only one random variable (success or failure).\n",
    "Binomial Distribution: Involves the sum of multiple independent Bernoulli-distributed random variables.\n",
    "\n",
    "Usage:\n",
    "Bernoulli Distribution: Used for a single event with two possible outcomes.\n",
    "Binomial Distribution: Used when dealing with the number of successes in a fixed number of independent trials."
   ]
  },
  {
   "cell_type": "markdown",
   "metadata": {},
   "source": [
    "Q6. Consider a dataset with a mean of 50 and a standard deviation of 10. If we assume that the dataset\n",
    "is normally distributed, what is the probability that a randomly selected observation will be greater\n",
    "than 60? Use the appropriate formula and show your calculations."
   ]
  },
  {
   "cell_type": "code",
   "execution_count": 1,
   "metadata": {},
   "outputs": [
    {
     "name": "stdout",
     "output_type": "stream",
     "text": [
      "The probability that a randomly selected observation will be greater than 60 is: 0.1587\n"
     ]
    }
   ],
   "source": [
    "from scipy.stats import norm\n",
    "mean = 50\n",
    "std_dev = 10\n",
    "observation_value = 60\n",
    "z_score = (observation_value - mean) / std_dev\n",
    "probability = 1 - norm.cdf(z_score)\n",
    "print(f\"The probability that a randomly selected observation will be greater than 60 is: {probability:.4f}\")\n"
   ]
  },
  {
   "cell_type": "markdown",
   "metadata": {},
   "source": [
    "Q7: Explain uniform Distribution with an example.\n",
    "\n",
    "A uniform distribution, also known as a rectangular distribution, is a probability distribution where all possible outcomes are equally likely. In other words, every value in the range of the distribution has the same probability of occurring. The probability density function (PDF) of a continuous uniform distribution is constant over its entire range.\n",
    "\n",
    "Example:\n",
    "\n",
    "Consider rolling a fair six-sided die. Each outcome (1, 2, 3, 4, 5, or 6) has an equal probability of 1/6​\n",
    " . This scenario follows a discrete uniform distribution. is 1/10"
   ]
  },
  {
   "cell_type": "markdown",
   "metadata": {},
   "source": [
    "Q8: What is the z score? State the importance of the z score.\n",
    "\n",
    "The z-score, also known as the standard score or z-value, is a statistical measure that describes a value's relation to the mean of a group of values. It is expressed in terms of standard deviations from the mean.\n",
    "Importance of the Z-Score:\n",
    "\n",
    "Standardization:\n",
    "\n",
    "Z-scores standardize data, allowing for the comparison of scores from different distributions. This is particularly useful when dealing with variables measured in different units or with different scales.\n",
    "\n",
    "Normal Distribution Comparison:\n",
    "Z-scores are crucial when working with the normal distribution. In a standard normal distribution (mean = 0, standard deviation = 1), the z-score directly provides the percentile rank of an observation.\n",
    "\n",
    "Identification of Outliers:\n",
    "Z-scores help identify outliers by flagging data points that are significantly far from the mean. Generally, values with z-scores beyond a certain threshold  are considered unusual.\n",
    "\n",
    "Probability Calculation:\n",
    "Z-scores are used in probability calculations. The z-score can be referenced in a standard normal distribution table to determine the probability of observing a value below or above a certain point.\n",
    "\n",
    "Quality Control and Process Monitoring:\n",
    "In quality control and process monitoring, z-scores can be used to assess how far a particular measurement is from the expected or target value, helping in identifying deviations from the norm.\n",
    "\n",
    "Data Analysis and Interpretation:\n",
    "Z-scores provide a standardized measure of the relative position of a data point within a dataset. This facilitates interpretation and communication of results in a meaningful way."
   ]
  },
  {
   "cell_type": "markdown",
   "metadata": {},
   "source": [
    "Q9: What is Central Limit Theorem? State the significance of the Central Limit Theorem.\n",
    "\n",
    "The Central Limit Theorem is a fundamental concept in statistics that describes the shape of the distribution of the sample mean  for a sufficiently large sample size, regardless of the shape of the population distribution. It states that, as the sample size increases, the distribution of the sample mean approaches a normal distribution, even if the original population distribution is not normal.\n",
    "\n",
    "Significance of the Central Limit Theorem:\n",
    "\n",
    "Normal Approximation:\n",
    "\n",
    "The CLT allows statisticians to use the normal distribution as an approximation for the distribution of the sample mean, even when dealing with non-normally distributed populations. This simplifies many statistical analyses.\n",
    "Inference and Hypothesis Testing:\n",
    "\n",
    "It forms the basis for making inferences about population parameters and conducting hypothesis tests. With a sufficiently large sample size, the sample mean can be treated as normally distributed, and statistical tests relying on normality assumptions can be applied.\n",
    "Sampling Distribution Understanding:\n",
    "\n",
    "The CLT helps in understanding the properties of the sampling distribution of the sample mean. It provides insights into how sample means behave and how their distribution becomes more normal as the sample size increases.\n",
    "Population Distribution Irrelevance:\n",
    "\n",
    "Regardless of the shape of the population distribution, the CLT allows statisticians to make statistical inferences about the population mean using the sample mean.\n",
    "Basis for Confidence Intervals:\n",
    "\n",
    "The CLT is foundational in the construction of confidence intervals for population parameters, particularly the population mean.\n",
    "Real-world Applications:\n",
    "\n",
    "In practical terms, the CLT is crucial for applications where sample means play a central role, such as quality control, medical research, and market research.\n",
    "In summary, the Central Limit Theorem is significant because it provides a powerful tool for statistical analysis, allowing practitioners to make reliable inferences about population parameters based on sample means, even in situations where the population distribution might be unknown or not normal."
   ]
  },
  {
   "cell_type": "markdown",
   "metadata": {},
   "source": [
    "Q10: State the assumptions of the Central Limit Theorem.\n",
    "\n",
    "1-The random variables must be independent.\n",
    "2-The sample size must be sufficiently large.\n",
    "3-The underlying population does not need to be normally distributed, but for small sample sizes, it helps if the population is not extremely skewed."
   ]
  }
 ],
 "metadata": {
  "kernelspec": {
   "display_name": "Python 3",
   "language": "python",
   "name": "python3"
  },
  "language_info": {
   "codemirror_mode": {
    "name": "ipython",
    "version": 3
   },
   "file_extension": ".py",
   "mimetype": "text/x-python",
   "name": "python",
   "nbconvert_exporter": "python",
   "pygments_lexer": "ipython3",
   "version": "3.11.7"
  }
 },
 "nbformat": 4,
 "nbformat_minor": 2
}
