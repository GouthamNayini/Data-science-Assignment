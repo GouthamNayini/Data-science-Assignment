{
 "cells": [
  {
   "cell_type": "markdown",
   "metadata": {},
   "source": [
    "Q1: What is Estimation Statistics? Explain point estimate and interval estimate.\n",
    "Estimation in statistics is the process of using sample data to make inferences about unknown population parameters. The goal is to provide an estimate that is likely to be close to the true value of the parameter. Estimation involves two main types: point estimation and interval estimation.\n",
    "\n",
    "Point Estimate:\n",
    "A point estimate is a single value that is used to approximate a population parameter. It is calculated from the sample data and serves as the best guess for the true value of the parameter. Common point estimates include the sample mean \n",
    "\n",
    "Interval Estimate:\n",
    "An interval estimate provides a range of values within which the true value of the population parameter is likely to fall. It recognizes the inherent uncertainty in estimation. The most common type of interval estimate is a confidence interval. A confidence interval gives a range of values and an associated level of confidence that the true parameter lies within that range."
   ]
  },
  {
   "cell_type": "markdown",
   "metadata": {},
   "source": [
    "Q2. Write a Python function to estimate the population mean using a sample mean and standard\n",
    "deviation."
   ]
  },
  {
   "cell_type": "code",
   "execution_count": 1,
   "metadata": {},
   "outputs": [
    {
     "name": "stdout",
     "output_type": "stream",
     "text": [
      "Estimated population mean: 25.6\n",
      "Confidence interval: (24.09707691927759, 27.102923080722412)\n"
     ]
    }
   ],
   "source": [
    "import scipy.stats as stats\n",
    "import math\n",
    "\n",
    "def estimate_population_mean(sample_mean, sample_std, sample_size, confidence_level=0.95):\n",
    "\n",
    "    std_error = sample_std / math.sqrt(sample_size)\n",
    "    margin_of_error = stats.norm.ppf((1 + confidence_level) / 2) * std_error\n",
    "    lower_bound = sample_mean - margin_of_error\n",
    "    upper_bound = sample_mean + margin_of_error\n",
    "    return lower_bound, upper_bound\n",
    "\n",
    "sample_mean = 25.6\n",
    "sample_std = 4.2\n",
    "sample_size = 30\n",
    "confidence_level = 0.95\n",
    "\n",
    "interval = estimate_population_mean(sample_mean, sample_std, sample_size, confidence_level)\n",
    "print(f\"Estimated population mean: {sample_mean}\")\n",
    "print(f\"Confidence interval: {interval}\")\n"
   ]
  },
  {
   "cell_type": "markdown",
   "metadata": {},
   "source": [
    "Q3: What is Hypothesis testing? Why is it used? State the importance of Hypothesis testing.\n",
    "\n",
    "Hypothesis testing is a statistical method used to make inferences or draw conclusions about a population based on a sample of data. It involves formulating two competing hypotheses: the null hypothesis and the alternative hypothesis  The null hypothesis represents a default assumption or no effect, while the alternative hypothesis represents a specific claim or effect that researchers want to support.\n",
    "\n",
    "The process of hypothesis testing typically involves:\n",
    "\n",
    "Formulating Hypotheses:\n",
    " The null hypothesis, often stating no effect or no difference.\n",
    " The alternative hypothesis, expressing a specific effect or difference.\n",
    "\n",
    "Collecting and Analyzing Data:\n",
    "Collecting a sample of data and performing statistical analysis.\n",
    "\n",
    "Making a Decision:\n",
    "Comparing the results of the analysis with the null hypothesis to determine whether there is enough evidence to reject the null hypothesis in favor of the alternative hypothesis.\n",
    "\n",
    "Drawing Conclusions:\n",
    "Drawing conclusions about the population based on the results of the hypothesis test."
   ]
  },
  {
   "cell_type": "markdown",
   "metadata": {},
   "source": [
    "Q4. Create a hypothesis that states whether the average weight of male college students is greater than\n",
    "the average weight of female college students.\n",
    "\n",
    "Null Hypothesis:\n",
    "           The null hypothesis states that there is no significant difference or that the average weight of male college students is less than or equal to the average weight of female college student\n",
    "Alternative Hypothesis:\n",
    "             The alternative hypothesis suggests that the average weight of male college students is greater than the average weight of female college students."
   ]
  },
  {
   "cell_type": "markdown",
   "metadata": {},
   "source": [
    "Q5. Write a Python script to conduct a hypothesis test on the difference between two population means,\n",
    "given a sample from each population."
   ]
  },
  {
   "cell_type": "code",
   "execution_count": 2,
   "metadata": {},
   "outputs": [
    {
     "name": "stdout",
     "output_type": "stream",
     "text": [
      "t-statistic: 5.018570166056059\n",
      "P-value: 8.918557141430477e-05\n",
      "Reject the null hypothesis. There is evidence of a significant difference.\n"
     ]
    }
   ],
   "source": [
    "import scipy.stats as stats\n",
    "\n",
    "def two_sample_t_test(data1, data2, alpha=0.05):\n",
    "    t_statistic, p_value = stats.ttest_ind(data1, data2)\n",
    "\n",
    "    return t_statistic, p_value\n",
    "population1 = [68, 72, 75, 71, 73, 70, 74, 72, 69, 76]\n",
    "population2 = [63, 67, 65, 68, 66, 64, 70, 68, 63, 69]\n",
    "\n",
    "alpha = 0.05\n",
    "\n",
    "t_stat, p_value = two_sample_t_test(population1, population2, alpha)\n",
    "print(f\"t-statistic: {t_stat}\")\n",
    "print(f\"P-value: {p_value}\")\n",
    "if p_value < alpha:\n",
    "    print(\"Reject the null hypothesis. There is evidence of a significant difference.\")\n",
    "else:\n",
    "    print(\"Fail to reject the null hypothesis. The difference is not statistically significant.\")"
   ]
  },
  {
   "cell_type": "markdown",
   "metadata": {},
   "source": [
    "\n",
    "Q6: Null and Alternative Hypotheses\n",
    "\n",
    "Null Hypothesis (H₀): The null hypothesis is the default assumption, stating that there is no significant difference between the groups or variables being compared. It essentially proposes that any observed difference is due to chance.\n",
    "\n",
    "Alternative Hypothesis (H₁): The alternative hypothesis is the opposite of the null hypothesis and proposes that there is a significant difference between the groups or variables being compared. It reflects the claim you aim to prove through your research.\n",
    "\n",
    "Examples:\n",
    "\n",
    "Null: There is no difference in the average exam scores between students who use a specific study technique and those who don't.\n",
    "\n",
    "Alternative: Students who use a specific study technique score significantly higher on exams than those who don't.\n",
    "\n",
    "Null: The new drug has no effect on reducing pain.\n",
    "\n",
    "Alternative: The new drug is significantly more effective in reducing pain than a placebo."
   ]
  },
  {
   "cell_type": "markdown",
   "metadata": {},
   "source": [
    "Q7: Steps in Hypothesis Testing\n",
    "Formulate the Hypotheses: Clearly define the null (H₀) and alternative (H₁) hypotheses based on your research question.\n",
    "\n",
    "Choose a Statistical Test: Select an appropriate statistical test based on the type of data and the nature of your hypotheses (e.g., t-test for comparing means, chi-square test for categorical data).\n",
    "\n",
    "Collect Data: Gather data relevant to your hypotheses through experiments, surveys, or other methods.\n",
    "\n",
    "Perform the Test: Apply the chosen statistical test to your data using statistical software or manual calculations.\n",
    "\n",
    "Calculate the P-value: The p-value is a statistical measure indicating the probability of obtaining results as extreme as your observed data, assuming the null hypothesis is true.\n",
    "\n",
    "Interpret the Results: Compare the p-value to a pre-defined significance level (usually α = 0.05).\n",
    "\n",
    "If p-value ≤ α: Reject the null hypothesis and accept the alternative hypothesis. There is strong evidence to suggest a significant difference between the groups or variables.\n",
    "If p-value > α: Fail to reject the null hypothesis. There is not enough evidence to conclude a significant difference.\n",
    "Draw Conclusions: Based on your interpretation of the hypothesis test and p-value, draw conclusions about your research question and the implications of your findings."
   ]
  },
  {
   "cell_type": "markdown",
   "metadata": {},
   "source": [
    "Q8: P-value and its Significance\n",
    "The p-value is a crucial element in hypothesis testing, representing the probability of observing results at least as extreme as your data, assuming the null hypothesis is true. It helps quantify the strength of evidence against the null hypothesis.\n",
    "\n",
    "Significance of p-value:\n",
    "\n",
    "Lower p-value: Indicates a stronger likelihood that the observed difference is not due to chance and supports the alternative hypothesis. A p-value of 0.05 or less is generally considered statistically significant.\n",
    "Higher p-value: Suggests a weaker likelihood of rejecting the null hypothesis and indicates insufficient evidence to claim a significant difference.\n",
    "Important points to remember:\n",
    "\n",
    "P-value alone doesn't prove or disprove the alternative hypothesis. It only assesses the evidence against the null hypothesis.\n",
    "Choosing a suitable significance level (α) is crucial for interpreting the p-value.\n",
    "P-values should be considered in conjunction with other factors like effect size and research context."
   ]
  },
  {
   "cell_type": "markdown",
   "metadata": {},
   "source": [
    "Q9. Generate a Student's t-distribution plot using Python's matplotlib library, with the degrees of freedom\n",
    "parameter set to 10."
   ]
  },
  {
   "cell_type": "code",
   "execution_count": 3,
   "metadata": {},
   "outputs": [
    {
     "data": {
      "image/png": "[encoded data removed]",
      "text/plain": [
       "<Figure size 640x480 with 1 Axes>"
      ]
     },
     "metadata": {},
     "output_type": "display_data"
    }
   ],
   "source": [
    "import matplotlib.pyplot as plt\n",
    "import numpy as np\n",
    "from scipy.stats import t\n",
    "degrees_of_freedom = 10\n",
    "x_values = np.linspace(-4, 4, 1000)\n",
    "pdf_values = t.pdf(x_values, df=degrees_of_freedom)\n",
    "plt.plot(x_values, pdf_values, label=f't-distribution (df={degrees_of_freedom})')\n",
    "plt.title(\"Student's t-distribution\")\n",
    "plt.xlabel('x')\n",
    "plt.ylabel('Probability Density Function (PDF)')\n",
    "plt.legend()\n",
    "plt.grid(True)\n",
    "plt.show()\n"
   ]
  },
  {
   "cell_type": "markdown",
   "metadata": {},
   "source": [
    "Q10. Write a Python program to calculate the two-sample t-test for independent samples, given two\n",
    "random samples of equal size and a null hypothesis that the population means are equal."
   ]
  },
  {
   "cell_type": "code",
   "execution_count": 12,
   "metadata": {},
   "outputs": [
    {
     "name": "stdout",
     "output_type": "stream",
     "text": [
      "Reject the null hypothesis. There is evidence of a significant difference.\n"
     ]
    }
   ],
   "source": [
    "import numpy as np\n",
    "from scipy.stats import ttest_ind\n",
    "pop=np.random.randint(10,50,50)\n",
    "goutham_score=np.random.choice(pop,20)\n",
    "loki_score=np.random.choice(pop,20)\n",
    "np.mean(goutham_score)\n",
    "np.mean(loki_score)\n",
    "t_val,p_val=stats.ttest_ind(goutham_score,loki_score)\n",
    "alpha = 0.05\n",
    "if p_value < alpha:\n",
    "    print(\"Reject the null hypothesis. There is evidence of a significant difference.\")\n",
    "else:\n",
    "    print(\"Fail to reject the null hypothesis. The difference is not statistically significant.\")\n"
   ]
  },
  {
   "cell_type": "markdown",
   "metadata": {},
   "source": [
    "Q11: What is Student’s t distribution? When to use the t-Distribution.\n",
    "\n",
    "\n",
    "Student's t-Distribution:\n",
    "\n",
    "Student's t-distribution, often simply called the t-distribution, is a probability distribution that arises in statistical inference when estimating the mean of a normally distributed population, especially when the sample size is small. It is used in situations where the population standard deviation is unknown, and the sample size is relatively small.\n",
    "When to Use the t-Distribution:\n",
    "\n",
    "The t-distribution is used in the following situations:\n",
    "\n",
    "Small Sample Sizes:\n",
    "\n",
    "When dealing with small sample sizes (typically n < 30), the t-distribution is more appropriate for estimating the population mean or conducting hypothesis tests about the mean.\n",
    "Unknown Population Standard Deviation:\n",
    "\n",
    "When the population standard deviation is unknown, and it needs to be estimated from the sample standard deviation, the t-distribution is used. In such cases, the t-distribution accounts for the additional uncertainty introduced by the estimation of the standard deviation.\n",
    "Confidence Intervals and Hypothesis Testing:\n",
    "\n",
    "In situations where confidence intervals or hypothesis tests involve the mean of a population, especially when the sample size is small and the standard deviation is unknown, the t-distribution is employed."
   ]
  },
  {
   "cell_type": "markdown",
   "metadata": {},
   "source": [
    "Q12: What is t-statistic? State the formula for t-statistic.\n",
    "\n",
    "The t-statistic is a measure that helps assess whether the difference between sample and population means is statistically significant. It is commonly used in hypothesis testing for comparing sample means to population means or comparing means between two independent samples.\n",
    "\n",
    "\n",
    "t_stats=(samp_mean-pop_mean)/(std/sqrt(n))"
   ]
  },
  {
   "cell_type": "markdown",
   "metadata": {},
   "source": [
    "Q13. A coffee shop owner wants to estimate the average daily revenue for their shop. They take a random\n",
    "sample of 50 days and find the sample mean revenue to be $500 with a standard deviation of $50.\n",
    "Estimate the population mean revenue with a 95% confidence interval."
   ]
  },
  {
   "cell_type": "code",
   "execution_count": 13,
   "metadata": {},
   "outputs": [
    {
     "name": "stdout",
     "output_type": "stream",
     "text": [
      "Estimated population mean: 500\n",
      "Confidence interval: (482.10805856282843, 517.8919414371716)\n"
     ]
    }
   ],
   "source": [
    "import scipy.stats as stats\n",
    "import math\n",
    "\n",
    "def estimate_population_mean(sample_mean, sample_std, sample_size, confidence_level=0.95):\n",
    "\n",
    "    std_error = sample_std / math.sqrt(sample_size)\n",
    "    margin_of_error = stats.norm.ppf((1 + confidence_level) / 2) * std_error\n",
    "    lower_bound = sample_mean - margin_of_error\n",
    "    upper_bound = sample_mean + margin_of_error\n",
    "    return lower_bound, upper_bound\n",
    "\n",
    "sample_mean = 500\n",
    "sample_std = 50\n",
    "sample_size = 30\n",
    "confidence_level = 0.95\n",
    "\n",
    "interval = estimate_population_mean(sample_mean, sample_std, sample_size, confidence_level)\n",
    "print(f\"Estimated population mean: {sample_mean}\")\n",
    "print(f\"Confidence interval: {interval}\")\n"
   ]
  },
  {
   "cell_type": "markdown",
   "metadata": {},
   "source": [
    "Q14. A researcher hypothesizes that a new drug will decrease blood pressure by 10 mmHg. They conduct a\n",
    "clinical trial with 100 patients and find that the sample mean decrease in blood pressure is 8 mmHg with a\n",
    "standard deviation of 3 mmHg. Test the hypothesis with a significance level of 0.05."
   ]
  },
  {
   "cell_type": "code",
   "execution_count": 14,
   "metadata": {},
   "outputs": [
    {
     "name": "stdout",
     "output_type": "stream",
     "text": [
      "Reject the null hypothesis. There is evidence of a significant decrease in blood pressure.\n",
      "t-statistic: -6.894614649601317\n",
      "P-value: 5.113102189766883e-10\n"
     ]
    }
   ],
   "source": [
    "import numpy as np\n",
    "from scipy.stats import ttest_1samp\n",
    "\n",
    "# Given information\n",
    "sample_mean = 8\n",
    "sample_std = 3\n",
    "sample_size = 100\n",
    "hypothesized_mean = 10\n",
    "significance_level = 0.05\n",
    "t_statistic, p_value = ttest_1samp(np.random.normal(sample_mean, sample_std, sample_size), hypothesized_mean)\n",
    "critical_value = -1 * abs(stats.t.ppf(significance_level, df=sample_size - 1))\n",
    "if t_statistic < critical_value:\n",
    "    print(\"Reject the null hypothesis. There is evidence of a significant decrease in blood pressure.\")\n",
    "else:\n",
    "    print(\"Fail to reject the null hypothesis. The decrease in blood pressure is not statistically significant.\")\n",
    "\n",
    "# Print the t-statistic and p-value\n",
    "print(f\"t-statistic: {t_statistic}\")\n",
    "print(f\"P-value: {p_value}\")\n"
   ]
  },
  {
   "cell_type": "markdown",
   "metadata": {},
   "source": [
    "Q15. An electronics company produces a certain type of product with a mean weight of 5 pounds and a\n",
    "standard deviation of 0.5 pounds. A random sample of 25 products is taken, and the sample mean weight\n",
    "is found to be 4.8 pounds. Test the hypothesis that the true mean weight of the products is less than 5\n",
    "pounds with a significance level of 0.01."
   ]
  },
  {
   "cell_type": "code",
   "execution_count": 15,
   "metadata": {},
   "outputs": [
    {
     "name": "stdout",
     "output_type": "stream",
     "text": [
      "Fail to reject the null hypothesis. The decrease in mean weight is not statistically significant.\n",
      "t-statistic: -1.6231020889604713\n",
      "P-value: 0.11763138149441332\n"
     ]
    }
   ],
   "source": [
    "import numpy as np\n",
    "from scipy.stats import ttest_1samp\n",
    "\n",
    "# Given information\n",
    "sample_mean = 4.8\n",
    "sample_std = 0.5\n",
    "sample_size = 25\n",
    "hypothesized_mean = 5\n",
    "significance_level = 0.01\n",
    "t_statistic, p_value = ttest_1samp(np.random.normal(sample_mean, sample_std, sample_size), hypothesized_mean)\n",
    "critical_value = -1 * abs(stats.t.ppf(significance_level, df=sample_size - 1))\n",
    "if t_statistic < critical_value:\n",
    "    print(\"Reject the null hypothesis. There is evidence of a significant decrease in mean weight.\")\n",
    "else:\n",
    "    print(\"Fail to reject the null hypothesis. The decrease in mean weight is not statistically significant.\")\n",
    "\n",
    "\n",
    "# Print the t-statistic and p-value\n",
    "print(f\"t-statistic: {t_statistic}\")\n",
    "print(f\"P-value: {p_value}\")\n"
   ]
  },
  {
   "cell_type": "markdown",
   "metadata": {},
   "source": [
    "Q16. Two groups of students are given different study materials to prepare for a test. The first group (n1 =\n",
    "30) has a mean score of 80 with a standard deviation of 10, and the second group (n2 = 40) has a mean\n",
    "score of 75 with a standard deviation of 8. Test the hypothesis that the population means for the two\n",
    "groups are equal with a significance level of 0.01."
   ]
  },
  {
   "cell_type": "code",
   "execution_count": 16,
   "metadata": {},
   "outputs": [
    {
     "name": "stdout",
     "output_type": "stream",
     "text": [
      "Fail to reject the null hypothesis. The means are not statistically different.\n",
      "t-statistic: 2.2511258444537408\n"
     ]
    }
   ],
   "source": [
    "import numpy as np\n",
    "from scipy.stats import t\n",
    "n1 = 30\n",
    "X1_bar = 80\n",
    "s1 = 10\n",
    "n2 = 40\n",
    "X2_bar = 75\n",
    "s2 = 8\n",
    "alpha = 0.01\n",
    "t_statistic = (X1_bar - X2_bar) / np.sqrt((s1**2 / n1) + (s2**2 / n2))\n",
    "critical_value_lower = -1 * t.ppf(1 - alpha / 2, df=n1 + n2 - 2)\n",
    "critical_value_upper = t.ppf(1 - alpha / 2, df=n1 + n2 - 2)\n",
    "\n",
    "if abs(t_statistic) > critical_value_upper or abs(t_statistic) < critical_value_lower:\n",
    "    print(\"Reject the null hypothesis. There is evidence of a significant difference in means.\")\n",
    "else:\n",
    "    print(\"Fail to reject the null hypothesis. The means are not statistically different.\")\n",
    "\n",
    "print(f\"t-statistic: {t_statistic}\")\n"
   ]
  },
  {
   "cell_type": "markdown",
   "metadata": {},
   "source": [
    "Q17. A marketing company wants to estimate the average number of ads watched by viewers during a TV\n",
    "program. They take a random sample of 50 viewers and find that the sample mean is 4 with a standard\n",
    "deviation of 1.5. Estimate the population mean with a 99% confidence interval."
   ]
  },
  {
   "cell_type": "code",
   "execution_count": 17,
   "metadata": {},
   "outputs": [
    {
     "name": "stdout",
     "output_type": "stream",
     "text": [
      "Estimated population mean: 4\n",
      "Confidence interval: (3.997341249615715, 4.002658750384285)\n"
     ]
    }
   ],
   "source": [
    "import scipy.stats as stats\n",
    "import math\n",
    "\n",
    "def estimate_population_mean(sample_mean, sample_std, sample_size, confidence_level=0.95):\n",
    "\n",
    "    std_error = sample_std / math.sqrt(sample_size)\n",
    "    margin_of_error = stats.norm.ppf((1 + confidence_level) / 2) * std_error\n",
    "    lower_bound = sample_mean - margin_of_error\n",
    "    upper_bound = sample_mean + margin_of_error\n",
    "    return lower_bound, upper_bound\n",
    "\n",
    "sample_mean = 4\n",
    "sample_std = 1.5\n",
    "sample_size = 50\n",
    "confidence_level = 0.01\n",
    "\n",
    "interval = estimate_population_mean(sample_mean, sample_std, sample_size, confidence_level)\n",
    "print(f\"Estimated population mean: {sample_mean}\")\n",
    "print(f\"Confidence interval: {interval}\")\n"
   ]
  }
 ],
 "metadata": {
  "kernelspec": {
   "display_name": "Python 3",
   "language": "python",
   "name": "python3"
  },
  "language_info": {
   "codemirror_mode": {
    "name": "ipython",
    "version": 3
   },
   "file_extension": ".py",
   "mimetype": "text/x-python",
   "name": "python",
   "nbconvert_exporter": "python",
   "pygments_lexer": "ipython3",
   "version": "3.11.7"
  }
 },
 "nbformat": 4,
 "nbformat_minor": 2
}
