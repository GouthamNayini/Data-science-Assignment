{
 "cells": [
  {
   "cell_type": "markdown",
   "metadata": {},
   "source": [
    "Q1: What is the difference between a t-test and a z-test? Provide an example scenario where you would\n",
    "use each type of test.\n",
    "\n",
    "Key Differences:\n",
    "\n",
    "Sample Size:\n",
    "t-tests are used for smaller sample sizes (typically less than 30).\n",
    "z-tests are used for larger sample sizes (typically 30 or more).\n",
    "\n",
    "Population Standard Deviation:\n",
    "t-tests are used when the population standard deviation is unknown.\n",
    "z-tests are used when the population standard deviation is known.\n",
    "\n",
    "Test Statistic:\n",
    "t-tests use the t-distribution, which is a bell-shaped curve similar to the normal distribution, but with thicker tails to account for greater uncertainty in smaller samples.\n",
    "z-tests use the standard normal distribution (z-distribution).\n",
    "\n",
    "Example Scenarios:\n",
    "When to use a t-test:\n",
    "\n",
    "Scenario 1: A small company wants to test if a new training program improves employee productivity. They randomly select 20 employees to participate in the program and compare their productivity scores to the company's historical average. Since the sample size is small and the population standard deviation is unknown, a t-test would be appropriate.\n",
    "\n",
    "Scenario 2: A researcher wants to compare the average height of men and women in a particular city. They randomly sample 15 men and 15 women and measure their heights. Because the sample sizes are small and the population standard deviations are unknown, they would use a two-sample t-test.\n",
    "\n",
    "When to use a z-test:\n",
    "Scenario 3: A manufacturer claims that their light bulbs have an average lifespan of 1000 hours. A consumer group tests a random sample of 100 bulbs and finds an average lifespan of 980 hours. Since the sample size is large and the population standard deviation of lightbulb lifespans is known from historical data, they can use a z-test to determine if the difference in means is statistically significant.\n",
    "\n",
    "Scenario 4: A school administrator wants to know if students in honors classes have significantly higher GPAs than students in regular classes. They have access to the GPAs of all students in both groups, so the population standard deviations are known. They can use a two-sample z-test to compare the means."
   ]
  },
  {
   "cell_type": "markdown",
   "metadata": {},
   "source": [
    "Q2: Differentiate between one-tailed and two-tailed tests.\n",
    "\n",
    "One-tailed and two-tailed tests are two different ways to approach statistical hypothesis testing. The main difference lies in the specificity of the alternative hypothesis you're interested in.\n",
    "\n",
    "One-tailed tests:\n",
    "\n",
    "Use a directional alternative hypothesis, stating that the parameter (e.g., mean, difference between means) is greater than or less than a specific value.\n",
    "Have only one critical region in the tail of the sampling distribution where rejecting the null hypothesis is possible.\n",
    "Are more powerful than two-tailed tests when you have a strong prior belief about the direction of the effect.\n",
    "Require justification for the chosen direction, avoiding fishing expeditions for significant results.\n",
    "\n",
    "Two-tailed tests:\n",
    "Use a non-directional alternative hypothesis, stating that the parameter is different from the value specified in the null hypothesis, without specifying the direction.\n",
    "Have two critical regions, one in each tail of the sampling distribution.\n",
    "Are more conservative than one-tailed tests, requiring a larger evidence threshold to reject the null hypothesis.\n",
    "Are preferred when you have no prior knowledge about the direction of the effect or are interested in any deviation from the null hypothesis."
   ]
  },
  {
   "cell_type": "markdown",
   "metadata": {},
   "source": [
    "Q3: Explain the concept of Type 1 and Type 2 errors in hypothesis testing. Provide an example scenario for\n",
    "each type of error.\n",
    "\n",
    "Type 1 Error (False Positive):\n",
    "Rejecting the null hypothesis when it's actually true.\n",
    "Example:\n",
    "A medical test incorrectly diagnoses a healthy person with a disease (false positive diagnosis).\n",
    "\n",
    "Type 2 Error (False Negative):\n",
    "Failing to reject the null hypothesis when it's actually false.\n",
    "Example:\n",
    "A security system fails to detect a real intruder (false negative alarm)."
   ]
  },
  {
   "cell_type": "markdown",
   "metadata": {},
   "source": [
    "Q4: Explain Bayes's theorem with an example.\n",
    "\n",
    "Bayesian statistics is an approach to data analysis and parameter based on Bayes Theorem\n",
    "it is combination of prob of independent events and prob of dependent events\n",
    "\n",
    "pr(x/y)=(p(x)*p(y/x))/p(y)\n",
    "\n",
    "ex: Rolling a dice \n",
    "    Tossing a coin"
   ]
  },
  {
   "cell_type": "markdown",
   "metadata": {},
   "source": [
    "Q5: What is a confidence interval? How to calculate the confidence interval, explain with an example.\n",
    "\n",
    "A confidence interval is a statistical tool used to estimate the range within which a population parameter, such as the mean or proportion, is likely to fall. It provides a range of values along with a level of confidence that the true parameter lies within that range. The level of confidence is typically expressed as a percentage, such as 95% or 99%.\n",
    "\n",
    "Example: Confidence Interval for the Mean\n",
    "\n",
    "Suppose you want to estimate the average height  of a certain population. You take a random sample of 30 individuals from this population and find their average height to inches, with a standard deviation inches.\n",
    "\n",
    "Assuming a 95% confidence level and using a t-distribution for this sample size, you consult a t-table or use statistical software to find the critical value (let's say it's 2.045 for a two-tailed test)."
   ]
  },
  {
   "cell_type": "markdown",
   "metadata": {},
   "source": [
    "Q6. Use Bayes' Theorem to calculate the probability of an event occurring given prior knowledge of the\n",
    "event's probability and new evidence. Provide a sample problem and solution.\n",
    "\n",
    "Bayes' Theorem helps us update our belief about an event's probability after receiving new evidence. Here's an example:\n",
    "\n",
    "Problem:\n",
    "\n",
    "Imagine you're testing a new type of fertilizer. Based on previous trials, you know the prior probability of a plant increasing its yield with this fertilizer is 40% (P(A) = 0.4). You apply the fertilizer to a specific plant and observe a significant increase in its yield. You want to know the updated probability of this specific plant benefiting from the fertilizer (P(A|B)), where B is the evidence of increased yield.\n",
    "\n",
    "Solution:\n",
    "\n",
    "We can use Bayes' Theorem:\n",
    "\n",
    "P(A|B) = (P(B|A) * P(A)) / P(B)\n",
    "\n",
    "where:\n",
    "\n",
    "P(A|B) is the posterior probability of the event (plant benefiting) given the evidence (increased yield).\n",
    "P(B|A) is the likelihood of observing the evidence (increased yield) if the event (plant benefiting) is true. This could be based on your knowledge of the fertilizer's effectiveness. Let's say in this case, you know there's a 70% chance of seeing increased yield if the plant actually benefited (P(B|A) = 0.7).\n",
    "P(A) is the prior probability of the event (plant benefiting), which we already know is 0.4.\n",
    "P(B) is the probability of observing the evidence (increased yield) regardless of whether the event happened. This could be based on factors like natural variations in plant growth. Let's assume the overall probability of seeing increased yield, even without the fertilizer, is 10% (P(B) = 0.1).\n",
    "Now, plugging in the values:\n",
    "\n",
    "P(A|B) = [(0.7) * (0.4)] / (0.1) = 0.28\n",
    "\n",
    "Therefore, after observing the increased yield, the updated probability of this specific plant benefiting from the fertilizer is 28%.\n",
    "\n",
    "Interpretation:\n",
    "\n",
    "While the prior probability of any plant benefiting was 40%, seeing the specific evidence of increased yield in this case has increased our belief that this particular plant benefited from the fertilizer, pushing the probability to 28%."
   ]
  },
  {
   "cell_type": "markdown",
   "metadata": {},
   "source": [
    "Q7. Calculate the 95% confidence interval for a sample of data with a mean of 50 and a standard deviation\n",
    "of 5. Interpret the results."
   ]
  },
  {
   "cell_type": "code",
   "execution_count": 5,
   "metadata": {},
   "outputs": [
    {
     "name": "stdout",
     "output_type": "stream",
     "text": [
      "48.49846094120748 51.50153905879252\n"
     ]
    }
   ],
   "source": [
    "import math\n",
    "import scipy.stats as stats\n",
    "mean=50\n",
    "std=5\n",
    "alpha=0.05\n",
    "z_critical=stats.norm.ppf(1-alpha)\n",
    "lower_ci=50-(z_critical)*(std/math.sqrt(30))\n",
    "higher_ci=50+(z_critical)*(std/math.sqrt(30))\n",
    "print(lower_ci,higher_ci)"
   ]
  },
  {
   "cell_type": "code",
   "execution_count": null,
   "metadata": {},
   "outputs": [],
   "source": [
    "\n",
    "The margin of error in a confidence interval represents the range within which we expect the true population parameter to lie. It is calculated by multiplying the standard error of the sample mean by a critical value (typically derived from the normal distribution for large sample sizes or t-distribution for small sample sizes). The formula for the margin of error is:\n",
    "\n",
    "Margin of Error=Critical Value×Standard Error\n",
    "Margin of Error=Critical Value×Standard Error\n",
    "\n",
    "The standard error is influenced by the sample size (n) and the variability of the data. The critical value is determined by the desired confidence level.\n",
    "\n",
    "Here's how sample size affects the margin of error:\n",
    "\n",
    "Larger Sample Size:\n",
    "\n",
    "As the sample size increases, the standard error decreases.\n",
    "A smaller standard error results in a smaller margin of error.\n",
    "Larger sample sizes provide more precise estimates of the population parameter.\n",
    "Smaller Sample Size:\n",
    "\n",
    "With a smaller sample size, the standard error increases.\n",
    "A larger standard error results in a larger margin of error.\n",
    "Smaller sample sizes are associated with less precision in estimating the population parameter.\n",
    "Example:\n",
    "Suppose you want to estimate the average height of students in a university with 95% confidence. You take two samples: one with a small sample size (\n",
    "\n",
    "Small Sample Size:\n",
    "Standard error is relatively larger.\n",
    "Margin of error is larger.\n",
    "Confidence interval is wider, providing a less precise estimate.\n",
    "\n",
    "Large Sample Size:\n",
    "Standard error is smaller.\n",
    "Margin of error is smaller.\n",
    "Confidence interval is narrower, offering a more precise estimate."
   ]
  },
  {
   "cell_type": "markdown",
   "metadata": {},
   "source": [
    "Q9. Calculate the z-score for a data point with a value of 75, a population mean of 70, and a population\n",
    "standard deviation of 5. Interpret the results. "
   ]
  },
  {
   "cell_type": "code",
   "execution_count": 7,
   "metadata": {},
   "outputs": [
    {
     "name": "stdout",
     "output_type": "stream",
     "text": [
      "1.0\n"
     ]
    }
   ],
   "source": [
    "sam_mean=75\n",
    "pop_mean=70\n",
    "std=5\n",
    "Z_score=(sam_mean-pop_mean)/std\n",
    "print(Z_score)"
   ]
  },
  {
   "cell_type": "markdown",
   "metadata": {},
   "source": [
    "Q10. In a study of the effectiveness of a new weight loss drug, a sample of 50 participants lost an average\n",
    "of 6 pounds with a standard deviation of 2.5 pounds. Conduct a hypothesis test to determine if the drug is\n",
    "significantly effective at a 95% confidence level using a t-test."
   ]
  },
  {
   "cell_type": "code",
   "execution_count": 8,
   "metadata": {},
   "outputs": [
    {
     "name": "stdout",
     "output_type": "stream",
     "text": [
      "t-statistic: 16.970562748477143\n",
      "Critical value: 2.009575234489209\n",
      "Reject the null hypothesis. The drug is significantly effective.\n"
     ]
    }
   ],
   "source": [
    "import scipy.stats\n",
    "\n",
    "sample_mean = 6\n",
    "sample_std = 2.5\n",
    "sample_size = 50\n",
    "null_hypothesis_mean = 0\n",
    "t_statistic = (sample_mean - null_hypothesis_mean) / (sample_std / (sample_size**0.5))\n",
    "\n",
    "degrees_of_freedom = sample_size - 1\n",
    "alpha = 0.05  \n",
    "critical_value = scipy.stats.t.ppf(1 - alpha/2, degrees_of_freedom)\n",
    "print(\"t-statistic:\", t_statistic)\n",
    "print(\"Critical value:\", critical_value)\n",
    "\n",
    "if abs(t_statistic) > critical_value:\n",
    "    print(\"Reject the null hypothesis. The drug is significantly effective.\")\n",
    "else:\n",
    "    print(\"Fail to reject the null hypothesis. There is not enough evidence to conclude the drug is effective.\")\n"
   ]
  },
  {
   "cell_type": "markdown",
   "metadata": {},
   "source": [
    "Q11. In a survey of 500 people, 65% reported being satisfied with their current job. Calculate the 95%\n",
    "confidence interval for the true proportion of people who are satisfied with their job."
   ]
  },
  {
   "cell_type": "code",
   "execution_count": 9,
   "metadata": {},
   "outputs": [
    {
     "name": "stdout",
     "output_type": "stream",
     "text": [
      "95% Confidence Interval: (0.608191771144905, 0.6918082288550951)\n"
     ]
    }
   ],
   "source": [
    "import math\n",
    "sample_proportion = 0.65\n",
    "sample_size = 500\n",
    "confidence_level = 0.95\n",
    "standard_error = math.sqrt((sample_proportion * (1 - sample_proportion)) / sample_size)\n",
    "margin_of_error = 1.96 * standard_error\n",
    "lower_bound = sample_proportion - margin_of_error\n",
    "upper_bound = sample_proportion + margin_of_error\n",
    "print(\"95% Confidence Interval:\", (lower_bound, upper_bound))\n"
   ]
  },
  {
   "cell_type": "markdown",
   "metadata": {},
   "source": [
    "Q12. A researcher is testing the effectiveness of two different teaching methods on student performance.\n",
    "Sample A has a mean score of 85 with a standard deviation of 6, while sample B has a mean score of 82\n",
    "with a standard deviation of 5. Conduct a hypothesis test to determine if the two teaching methods have a\n",
    "significant difference in student performance using a t-test with a significance level of 0.01."
   ]
  },
  {
   "cell_type": "code",
   "execution_count": 10,
   "metadata": {},
   "outputs": [
    {
     "name": "stdout",
     "output_type": "stream",
     "text": [
      "t-statistic: 2.1038606199548298\n",
      "Critical value: 2.663286953809868\n",
      "Fail to reject the null hypothesis. There is not enough evidence to conclude a significant difference.\n"
     ]
    }
   ],
   "source": [
    "import math\n",
    "mean_A = 85\n",
    "std_dev_A = 6\n",
    "mean_B = 82\n",
    "std_dev_B = 5\n",
    "sample_size = 30\n",
    "significance_level = 0.01\n",
    "t_statistic = (mean_A - mean_B) / math.sqrt((std_dev_A**2 / sample_size) + (std_dev_B**2 / sample_size))\n",
    "degrees_of_freedom = 2 * sample_size - 2\n",
    "\n",
    "critical_value = abs(scipy.stats.t.ppf(significance_level / 2, degrees_of_freedom))\n",
    "print(\"t-statistic:\", t_statistic)\n",
    "print(\"Critical value:\", critical_value)\n",
    "if abs(t_statistic) > critical_value:\n",
    "    print(\"Reject the null hypothesis. There is a significant difference in student performance.\")\n",
    "else:\n",
    "    print(\"Fail to reject the null hypothesis. There is not enough evidence to conclude a significant difference.\")\n"
   ]
  },
  {
   "cell_type": "markdown",
   "metadata": {},
   "source": [
    "Q13. A population has a mean of 60 and a standard deviation of 8. A sample of 50 observations has a mean\n",
    "of 65. Calculate the 90% confidence interval for the true population mean."
   ]
  },
  {
   "cell_type": "code",
   "execution_count": 11,
   "metadata": {},
   "outputs": [
    {
     "name": "stdout",
     "output_type": "stream",
     "text": [
      "90% Confidence Interval: (63.13906055411732, 66.86093944588268)\n"
     ]
    }
   ],
   "source": [
    "import math\n",
    "sample_mean = 65\n",
    "population_std_dev = 8\n",
    "sample_size = 50\n",
    "confidence_level = 0.90\n",
    "standard_error = population_std_dev / math.sqrt(sample_size)\n",
    "z_score = abs(scipy.stats.norm.ppf((1 + confidence_level) / 2))\n",
    "margin_of_error = z_score * standard_error\n",
    "lower_bound = sample_mean - margin_of_error\n",
    "upper_bound = sample_mean + margin_of_error\n",
    "print(\"90% Confidence Interval:\", (lower_bound, upper_bound))\n"
   ]
  },
  {
   "cell_type": "markdown",
   "metadata": {},
   "source": [
    "Q14. In a study of the effects of caffeine on reaction time, a sample of 30 participants had an average\n",
    "reaction time of 0.25 seconds with a standard deviation of 0.05 seconds. Conduct a hypothesis test to\n",
    "determine if the caffeine has a significant effect on reaction time at a 90% confidence level using a t-test."
   ]
  },
  {
   "cell_type": "code",
   "execution_count": 13,
   "metadata": {},
   "outputs": [
    {
     "name": "stdout",
     "output_type": "stream",
     "text": [
      "t-statistic: 2.7386127875258306\n",
      "Critical value: 1.6991270265334972\n",
      "Reject the null hypothesis. Caffeine has a significant effect on reaction time.\n"
     ]
    }
   ],
   "source": [
    "import scipy.stats\n",
    "\n",
    "sample_mean = 0.25\n",
    "sample_std = 0.5\n",
    "sample_size = 30\n",
    "null_hypothesis_mean = 0\n",
    "t_statistic = (sample_mean - null_hypothesis_mean) / (sample_std / (sample_size**0.5))\n",
    "\n",
    "degrees_of_freedom = sample_size - 1\n",
    "alpha = 0.10\n",
    "critical_value = scipy.stats.t.ppf(1 - alpha/2, degrees_of_freedom)\n",
    "print(\"t-statistic:\", t_statistic)\n",
    "print(\"Critical value:\", critical_value)\n",
    "\n",
    "if abs(t_statistic) > critical_value:\n",
    "    print(\"Reject the null hypothesis. Caffeine has a significant effect on reaction time.\")\n",
    "else:\n",
    "    print(\"Fail to reject the null hypothesis. There is not enough evidence to conclude a significant effect.\")"
   ]
  }
 ],
 "metadata": {
  "kernelspec": {
   "display_name": "Python 3",
   "language": "python",
   "name": "python3"
  },
  "language_info": {
   "codemirror_mode": {
    "name": "ipython",
    "version": 3
   },
   "file_extension": ".py",
   "mimetype": "text/x-python",
   "name": "python",
   "nbconvert_exporter": "python",
   "pygments_lexer": "ipython3",
   "version": "3.11.7"
  }
 },
 "nbformat": 4,
 "nbformat_minor": 2
}
