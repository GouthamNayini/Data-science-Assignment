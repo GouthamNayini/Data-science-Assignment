{
 "cells": [
  {
   "cell_type": "markdown",
   "metadata": {},
   "source": [
    "Q1. Explain the assumptions required to use ANOVA and provide examples of violations that could impact the validity of the results.\n",
    "\n",
    "Assumptions of ANOVA:\n",
    "\n",
    "Normality: The dependent variable should follow a normal distribution within each group.\n",
    "Homogeneity of Variances: The variances of the dependent variable should be approximately equal across groups.\n",
    "Independence: Observations within and between groups should be independent of each other.\n",
    "Examples of Violations:\n",
    "\n",
    "Non-Normality: If the normality assumption is violated, it can lead to inaccurate p-values and affect the overall validity of the results. Transformations or non-parametric alternatives may be considered.\n",
    "Heteroscedasticity (Unequal Variances): Violation of homogeneity of variances can lead to unequal weighting of groups, affecting the F-statistic. Using Welch's ANOVA or transforming the data may be options.\n",
    "Dependent Observations: Violations of independence, such as in repeated measures designs without proper handling, can lead to inflated Type I errors.\n"
   ]
  },
  {
   "cell_type": "markdown",
   "metadata": {},
   "source": [
    "Q2. What are the three types of ANOVA, and in what situations would each be used?\n",
    "\n",
    "Three Types of ANOVA:\n",
    "\n",
    "One-Way ANOVA: Used when comparing means of three or more independent groups (treatments).\n",
    "Two-Way ANOVA: Examines the influence of two different categorical independent variables on one dependent variable.\n",
    "Repeated Measures ANOVA: Used when the same subjects are used for each treatment (within-subjects design).\n",
    "Situations for Each:\n",
    "\n",
    "One-Way ANOVA: Comparing the average scores across different categories or groups.\n",
    "Two-Way ANOVA: Investigating the impact of two independent variables and their interaction on a dependent variable.\n",
    "Repeated Measures ANOVA: Assessing changes in a dependent variable over time or under different conditions within the same subjects."
   ]
  },
  {
   "cell_type": "markdown",
   "metadata": {},
   "source": [
    "Q3. What is the partitioning of variance in ANOVA, and why is it important to understand this concept?\n",
    "\n",
    "Partitioning of Variance:\n",
    "In ANOVA, the total variance in the data is partitioned into different components:\n",
    "\n",
    "Total Sum of Squares (SST): Variability of the individual data points from the overall mean.\n",
    "Explained Sum of Squares (SSE): Variability between group means and the overall mean.\n",
    "Residual Sum of Squares (SSR): Variability within each group.\n",
    "Importance:\n",
    "Understanding the partitioning of variance helps quantify how much of the total variability in the data is due to the differences between groups and how much is due to random variability within groups. This understanding is crucial for interpreting the F-statistic and drawing meaningful conclusions from the analysis."
   ]
  },
  {
   "cell_type": "markdown",
   "metadata": {},
   "source": [
    "Q4. How would you calculate the total sum of squares (SST), explained sum of squares (SSE), and residual sum of squares (SSR) in a one-way ANOVA using Python?"
   ]
  },
  {
   "cell_type": "code",
   "execution_count": 2,
   "metadata": {},
   "outputs": [
    {
     "name": "stdout",
     "output_type": "stream",
     "text": [
      "SST: 143.0\n",
      "SSE: 128.0\n",
      "SSR: 15.0\n"
     ]
    }
   ],
   "source": [
    "import scipy.stats as stats\n",
    "import numpy as np\n",
    "group1 = [3, 4, 5, 6]\n",
    "group2 = [7, 8, 9, 10]\n",
    "group3 = [11, 12, 13, 14]\n",
    "all_data = group1 + group2 + group3\n",
    "overall_mean = np.mean(all_data)\n",
    "sst = np.sum((all_data - overall_mean) ** 2)\n",
    "group_means = [np.mean(group) for group in [group1, group2, group3]]\n",
    "sse = np.sum([(np.mean(group) - overall_mean) ** 2 * len(group) for group in [group1, group2, group3]])\n",
    "ssr = sst - sse\n",
    "print(f\"SST: {sst}\")\n",
    "print(f\"SSE: {sse}\")\n",
    "print(f\"SSR: {ssr}\")\n"
   ]
  },
  {
   "cell_type": "markdown",
   "metadata": {},
   "source": [
    "Q5. In a two-way ANOVA, how would you calculate the main effects and interaction effects using Python?"
   ]
  },
  {
   "cell_type": "code",
   "execution_count": null,
   "metadata": {},
   "outputs": [],
   "source": [
    "import pandas as pd\n",
    "import statsmodels.api as sm\n",
    "from statsmodels.formula.api import ols\n",
    "\n",
    "# Example data in a DataFrame\n",
    "data = pd.DataFrame({\n",
    "    'A': ['A1', 'A1', 'A2', 'A2'],\n",
    "    'B': ['B1', 'B2', 'B1', 'B2'],\n",
    "    'Value': [3, 5, 7, 9]\n",
    "})\n",
    "\n",
    "# Fit a two-way ANOVA model\n",
    "formula = 'Value ~ A + B + A:B'\n",
    "model = ols(formula, data=data).fit()\n",
    "anova_table = sm.stats.anova_lm(model, typ=2)\n",
    "\n",
    "# Extract main effects and interaction effects\n",
    "main_effects = anova_table['sum_sq'][:2]\n",
    "interaction_effect = anova_table['sum_sq'][2]\n",
    "\n",
    "print(f\"Main Effects:\\n{main_effects}\")\n",
    "print(f\"Interaction Effect:\\n{interaction_effect}\")\n"
   ]
  },
  {
   "cell_type": "markdown",
   "metadata": {},
   "source": [
    "Q6. Suppose you conducted a one-way ANOVA and obtained an F-statistic of 5.23 and a p-value of 0.02. What can you conclude about the differences between the groups, and how would you interpret these results?\n",
    "\n",
    "The obtained F-statistic of 5.23 suggests that there are significant differences between at least two groups. The p-value of 0.02 is less than the typical significance level of 0.05, indicating that you can reject the null hypothesis."
   ]
  },
  {
   "cell_type": "markdown",
   "metadata": {},
   "source": [
    "Q7. In a repeated measures ANOVA, how would you handle missing data, and what are the potential consequences of using different methods to handle missing data?\n",
    "\n",
    "Handling missing data in repeated measures ANOVA is crucial for obtaining valid results. There are several methods to handle missing data:\n",
    "\n",
    "Complete Case Analysis (CCA): Exclude cases with missing data. This can lead to biased results if missing data is not random.\n",
    "\n",
    "Mean Imputation: Replace missing values with the mean of the observed values. This can underestimate standard errors and lead to biased results.\n",
    "\n",
    "Interpolation or Last Observation Carried Forward (LOCF): Use adjacent data points to estimate missing values. May introduce bias if missing data is related to unobserved changes.\n",
    "\n",
    "Multiple Imputation: Generate multiple plausible imputations for missing data, perform analyses for each imputed dataset, and combine results. Provides more accurate estimates of uncertainty."
   ]
  },
  {
   "cell_type": "markdown",
   "metadata": {},
   "source": [
    "Q8. What are some common post-hoc tests used after ANOVA, and when would you use each one? Provide an example of a situation where a post-hoc test might be necessary.\n",
    "\n",
    "Common post-hoc tests used after ANOVA include:\n",
    "\n",
    "Tukey's Honestly Significant Difference (HSD): Used when you have equal sample sizes and want to control the overall Type I error rate.\n",
    "Bonferroni Correction: Adjusts significance levels to control the familywise error rate but can be conservative.\n",
    "Sidak Correction: Similar to Bonferroni but often less conservative.\n",
    "Dunnett's Test: Used when comparing all groups to a control group.\n",
    "Fisher's Least Significant Difference (LSD): Simple and quick but less conservative."
   ]
  },
  {
   "cell_type": "markdown",
   "metadata": {},
   "source": [
    "Q9. A researcher wants to compare the mean weight loss of three diets: A, B, and C. They collect data from 50 participants who were randomly assigned to one of the diets. Conduct a one-way ANOVA using Python to determine if there are any significant differences between the mean weight loss of the three diets. Report the F-statistic and p-value, and interpret the results."
   ]
  },
  {
   "cell_type": "code",
   "execution_count": 10,
   "metadata": {},
   "outputs": [
    {
     "name": "stdout",
     "output_type": "stream",
     "text": [
      "F-statistic: 0.8951996540625464\n",
      "P-value: 0.4203073873439122\n",
      "There is no significant difference in mean weight loss between the diets.\n"
     ]
    }
   ],
   "source": [
    "import scipy.stats as stats\n",
    "import numpy as np\n",
    "diet_A =np.random.rand(10)  \n",
    "diet_B = np.random.rand(10) \n",
    "diet_C = np.random.rand(10) \n",
    "f_statistic, p_value = stats.f_oneway(diet_A, diet_B, diet_C)\n",
    "print(f\"F-statistic: {f_statistic}\")\n",
    "print(f\"P-value: {p_value}\")\n",
    "if p_value < 0.05:\n",
    "    print(\"There is a significant difference in mean weight loss between at least two diets.\")\n",
    "else:\n",
    "    print(\"There is no significant difference in mean weight loss between the diets.\")\n"
   ]
  },
  {
   "cell_type": "markdown",
   "metadata": {},
   "source": [
    "Q10. A company wants to know if there are any significant differences in the average time it takes to complete a task using three different software programs: Program A, Program B, and Program C. They randomly assign 30 employees to one of the programs and record the time it takes each employee to complete the task. Conduct a two-way ANOVA using Python to determine if there are any main effects or interaction effects between the software programs and employee experience level (novice vs. experienced). Report the F-statistics and p-values, and interpret the results."
   ]
  },
  {
   "cell_type": "code",
   "execution_count": 11,
   "metadata": {},
   "outputs": [
    {
     "name": "stdout",
     "output_type": "stream",
     "text": [
      "                         sum_sq    df         F    PR(>F)\n",
      "Software              18.499381   2.0  0.262465  0.771333\n",
      "Experience             3.099871   1.0  0.087960  0.769338\n",
      "Software:Experience    6.641795   2.0  0.094232  0.910406\n",
      "Residual             845.800000  24.0       NaN       NaN\n",
      "\n",
      "Interpretation:\n"
     ]
    }
   ],
   "source": [
    "import pandas as pd\n",
    "import statsmodels.api as sm\n",
    "from statsmodels.formula.api import ols\n",
    "\n",
    "# Generate random data\n",
    "np.random.seed(42)  # Set seed for reproducibility\n",
    "data = pd.DataFrame({\n",
    "    'Software': np.random.choice(['A', 'B', 'C'], size=30),\n",
    "    'Experience': np.random.choice(['Novice', 'Experienced'], size=30),\n",
    "    'Time': np.random.randint(10, 30, size=30)\n",
    "})\n",
    "\n",
    "# Fit two-way ANOVA model\n",
    "formula = 'Time ~ Software + Experience + Software:Experience'\n",
    "model = ols(formula, data=data).fit()\n",
    "anova_table = sm.stats.anova_lm(model, typ=2)\n",
    "\n",
    "# Print results\n",
    "print(anova_table)\n",
    "\n",
    "# Interpretation\n",
    "print(\"\\nInterpretation:\")\n",
    "if anova_table['PR(>F)']['Software'] < 0.05:\n",
    "    print(\"There is a significant main effect of Software.\")\n",
    "if anova_table['PR(>F)']['Experience'] < 0.05:\n",
    "    print(\"There is a significant main effect of Experience.\")\n",
    "if anova_table['PR(>F)']['Software:Experience'] < 0.05:\n",
    "    print(\"There is a significant interaction effect between Software and Experience.\")\n",
    "else:\n",
    "    print(\"there is \")"
   ]
  },
  {
   "cell_type": "markdown",
   "metadata": {},
   "source": [
    "Q11. An educational researcher is interested in whether a new teaching method improves student test scores. They randomly assign 100 students to either the control group (traditional teaching method) or the experimental group (new teaching method) and administer a test at the end of the semester. Conduct a two-sample t-test using Python to determine if there are any significant differences in test scores between the two groups. If the results are significant, follow up with a post-hoc test to determine which group(s) differ significantly from each other."
   ]
  },
  {
   "cell_type": "code",
   "execution_count": 19,
   "metadata": {},
   "outputs": [
    {
     "name": "stdout",
     "output_type": "stream",
     "text": [
      "T-statistic: 2.5704487365178315\n",
      "P-value: 0.019257584836331103\n",
      "There is a significant difference in test scores between the control and experimental groups.\n"
     ]
    }
   ],
   "source": [
    "import scipy.stats as stats\n",
    "import numpy as np\n",
    "control_group = np.random.rand(10)\n",
    "experimental_group =  np.random.rand(10) \n",
    "t_statistic, p_value = stats.ttest_ind(control_group, experimental_group)\n",
    "print(f\"T-statistic: {t_statistic}\")\n",
    "print(f\"P-value: {p_value}\")\n",
    "if p_value < 0.05:\n",
    "    print(\"There is a significant difference in test scores between the control and experimental groups.\")\n",
    "else:\n",
    "    print(\"There is no significant difference in test scores between the groups.\")\n"
   ]
  },
  {
   "cell_type": "markdown",
   "metadata": {},
   "source": [
    "Q12. A researcher wants to know if there are any significant differences in the average daily sales of three retail stores: Store A, Store B, and Store C. They randomly select 30 days and record the sales for each store on those days. Conduct a repeated measures ANOVA using Python to determine if there are any significant differences in sales between the three stores. If the results are significant, follow up with a post-hoc test to determine which store(s) differ significantly from each other."
   ]
  },
  {
   "cell_type": "code",
   "execution_count": 20,
   "metadata": {},
   "outputs": [
    {
     "name": "stdout",
     "output_type": "stream",
     "text": [
      "               Anova\n",
      "===================================\n",
      "      F Value Num DF  Den DF Pr > F\n",
      "-----------------------------------\n",
      "Store -4.6065 2.0000 58.0000 1.0000\n",
      "===================================\n",
      "\n"
     ]
    }
   ],
   "source": [
    "import pandas as pd\n",
    "import statsmodels.api as sm\n",
    "from statsmodels.stats.anova import AnovaRM\n",
    "data = pd.DataFrame({\n",
    "    'Day': list(range(30))*3,\n",
    "    'Store': ['A']*30 + ['B']*30 + ['C']*30,\n",
    "    'Sales': np.random.randint(90) \n",
    "})\n",
    "\n",
    "rm_anova = AnovaRM(data, 'Sales', 'Day', within=['Store'])\n",
    "results = rm_anova.fit()\n",
    "print(results)\n"
   ]
  }
 ],
 "metadata": {
  "kernelspec": {
   "display_name": "Python 3",
   "language": "python",
   "name": "python3"
  },
  "language_info": {
   "codemirror_mode": {
    "name": "ipython",
    "version": 3
   },
   "file_extension": ".py",
   "mimetype": "text/x-python",
   "name": "python",
   "nbconvert_exporter": "python",
   "pygments_lexer": "ipython3",
   "version": "3.11.7"
  }
 },
 "nbformat": 4,
 "nbformat_minor": 2
}
