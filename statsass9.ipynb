{
 "cells": [
  {
   "cell_type": "markdown",
   "metadata": {},
   "source": [
    "Q1. Write a Python function that takes in two arrays of data and calculates the F-value for a variance ratio\n",
    "test. The function should return the F-value and the corresponding p-value for the test."
   ]
  },
  {
   "cell_type": "code",
   "execution_count": 1,
   "metadata": {},
   "outputs": [],
   "source": [
    "import numpy as np\n",
    "from scipy.stats import f\n",
    "\n",
    "def variance_ratio_test(arr1, arr2):\n",
    "    var1 = np.var(arr1, ddof=1) \n",
    "    var2 = np.var(arr2, ddof=1)  \n",
    "\n",
    "    f_value = var1 / var2 if var1 > var2 else var2 / var1\n",
    "    df1 = len(arr1) - 1\n",
    "    df2 = len(arr2) - 1\n",
    "    p_value = 2 * (1 - f.cdf(f_value, df1, df2))\n",
    "\n",
    "    return f_value, p_value\n"
   ]
  },
  {
   "cell_type": "markdown",
   "metadata": {},
   "source": [
    "Q2. Given a significance level of 0.05 and the degrees of freedom for the numerator and denominator of an\n",
    "F-distribution, write a Python function that returns the critical F-value for a two-tailed test."
   ]
  },
  {
   "cell_type": "code",
   "execution_count": 2,
   "metadata": {},
   "outputs": [],
   "source": [
    "from scipy.stats import f\n",
    "\n",
    "def critical_f_value(alpha, df_num, df_denom):\n",
    "    return f.ppf(1 - alpha/2, df_num, df_denom)\n"
   ]
  },
  {
   "cell_type": "markdown",
   "metadata": {},
   "source": [
    "Q3. Write a Python program that generates random samples from two normal distributions with known\n",
    "\n",
    "variances and uses an F-test to determine if the variances are equal. The program should output the F-\n",
    "value, degrees of freedom, and p-value for the test."
   ]
  },
  {
   "cell_type": "code",
   "execution_count": 3,
   "metadata": {},
   "outputs": [],
   "source": [
    "import numpy as np\n",
    "from scipy.stats import f\n",
    "\n",
    "def f_test_for_equal_variances(sample1, sample2):\n",
    "    var1 = np.var(sample1, ddof=1)\n",
    "    var2 = np.var(sample2, ddof=1)\n",
    "\n",
    "    f_value = var1 / var2 if var1 > var2 else var2 / var1\n",
    "    df1 = len(sample1) - 1\n",
    "    df2 = len(sample2) - 1\n",
    "    p_value = 2 * (1 - f.cdf(f_value, df1, df2))\n",
    "\n",
    "    return f_value, df1, df2, p_value\n"
   ]
  },
  {
   "cell_type": "code",
   "execution_count": 5,
   "metadata": {},
   "outputs": [
    {
     "data": {
      "text/plain": [
       "(1.7198572380825006, 11, 11, 0.38219740121904566)"
      ]
     },
     "execution_count": 5,
     "metadata": {},
     "output_type": "execute_result"
    }
   ],
   "source": [
    "f_test_for_equal_variances(np.random.normal(0, np.sqrt(10), 12)\n",
    ",np.random.normal(0, np.sqrt(15), 12)\n",
    ")"
   ]
  },
  {
   "cell_type": "markdown",
   "metadata": {},
   "source": [
    "Q4.The variances of two populations are known to be 10 and 15. A sample of 12 observations is taken from\n",
    "each population. Conduct an F-test at the 5% significance level to determine if the variances are\n",
    "significantly different."
   ]
  },
  {
   "cell_type": "code",
   "execution_count": 4,
   "metadata": {},
   "outputs": [
    {
     "name": "stdout",
     "output_type": "stream",
     "text": [
      "F-Value: 7.648672906640534, Critical F-Value: 3.473699051085809, P-Value: 0.0021343721796576176\n"
     ]
    }
   ],
   "source": [
    "sample1 = np.random.normal(0, np.sqrt(10), 12)\n",
    "sample2 = np.random.normal(0, np.sqrt(15), 12)\n",
    "\n",
    "f_value, df1, df2, p_value = f_test_for_equal_variances(sample1, sample2)\n",
    "\n",
    "alpha = 0.05\n",
    "critical_f = critical_f_value(alpha, df1, df2)\n",
    "\n",
    "print(f'F-Value: {f_value}, Critical F-Value: {critical_f}, P-Value: {p_value}')\n"
   ]
  },
  {
   "cell_type": "markdown",
   "metadata": {},
   "source": [
    "Q5. A manufacturer claims that the variance of the diameter of a certain product is 0.005. A sample of 25\n",
    "products is taken, and the sample variance is found to be 0.006. Conduct an F-test at the 1% significance\n",
    "level to determine if the claim is justified."
   ]
  },
  {
   "cell_type": "code",
   "execution_count": 6,
   "metadata": {},
   "outputs": [
    {
     "name": "stdout",
     "output_type": "stream",
     "text": [
      "F-Value: 1.2, Critical F-Value: 24939.565259943236, P-Value: 1.2592199239918715\n"
     ]
    }
   ],
   "source": [
    "claim_variance = 0.005\n",
    "sample_variance = 0.006\n",
    "sample_size = 25\n",
    "\n",
    "f_value = sample_variance / claim_variance\n",
    "df1 = sample_size - 1\n",
    "df2 = 1  \n",
    "\n",
    "p_value = 2 * (1 - f.cdf(f_value, df1, df2))\n",
    "\n",
    "alpha = 0.01\n",
    "critical_f = critical_f_value(alpha, df1, df2)\n",
    "\n",
    "print(f'F-Value: {f_value}, Critical F-Value: {critical_f}, P-Value: {p_value}')\n"
   ]
  },
  {
   "cell_type": "markdown",
   "metadata": {},
   "source": [
    "Q6. Write a Python function that takes in the degrees of freedom for the numerator and denominator of an\n",
    "F-distribution and calculates the mean and variance of the distribution. The function should return the\n",
    "mean and variance as a tuple."
   ]
  },
  {
   "cell_type": "code",
   "execution_count": 7,
   "metadata": {},
   "outputs": [],
   "source": [
    "from scipy.stats import f\n",
    "\n",
    "def f_distribution_mean_variance(df_num, df_denom):\n",
    "    mean = df_denom / (df_denom - 2)  # for df_denom > 2\n",
    "    variance = (2 * (df_denom**2) * (df_num + df_denom - 2)) / (df_num * (df_denom - 2)**2 * (df_denom - 4))\n",
    "\n",
    "    return mean, variance\n"
   ]
  },
  {
   "cell_type": "markdown",
   "metadata": {},
   "source": [
    "Q7. A random sample of 10 measurements is taken from a normal population with unknown variance. The\n",
    "sample variance is found to be 25. Another random sample of 15 measurements is taken from another\n",
    "normal population with unknown variance, and the sample variance is found to be 20. Conduct an F-test\n",
    "at the 10% significance level to determine if the variances are significantly different."
   ]
  },
  {
   "cell_type": "code",
   "execution_count": 8,
   "metadata": {},
   "outputs": [
    {
     "name": "stdout",
     "output_type": "stream",
     "text": [
      "F-Value: 1.25, Critical F-Value: 2.6457907352338195, P-Value: 0.6832194382585952\n"
     ]
    }
   ],
   "source": [
    "sample1_variance = 25\n",
    "sample2_variance = 20\n",
    "\n",
    "df1 = 10 - 1\n",
    "df2 = 15 - 1\n",
    "\n",
    "f_value = sample1_variance / sample2_variance\n",
    "p_value = 2 * (1 - f.cdf(f_value, df1, df2))\n",
    "\n",
    "alpha = 0.10\n",
    "critical_f = critical_f_value(alpha, df1, df2)\n",
    "\n",
    "print(f'F-Value: {f_value}, Critical F-Value: {critical_f}, P-Value: {p_value}')\n"
   ]
  },
  {
   "cell_type": "markdown",
   "metadata": {},
   "source": [
    "Q8. The following data represent the waiting times in minutes at two different restaurants on a Saturday\n",
    "night: Restaurant A: 24, 25, 28, 23, 22, 20, 27; Restaurant B: 31, 33, 35, 30, 32, 36. Conduct an F-test at the 5%\n",
    "significance level to determine if the variances are significantly different."
   ]
  },
  {
   "cell_type": "code",
   "execution_count": 9,
   "metadata": {},
   "outputs": [
    {
     "name": "stdout",
     "output_type": "stream",
     "text": [
      "F-Value: 1.4551907719609583, Critical F-Value: 6.977701858535566, P-Value: 0.6974815747937484\n"
     ]
    }
   ],
   "source": [
    "restaurant_A = np.array([24, 25, 28, 23, 22, 20, 27])\n",
    "restaurant_B = np.array([31, 33, 35, 30, 32, 36])\n",
    "\n",
    "f_value, df1, df2, p_value = f_test_for_equal_variances(restaurant_A, restaurant_B)\n",
    "\n",
    "alpha = 0.05\n",
    "critical_f = critical_f_value(alpha, df1, df2)\n",
    "\n",
    "print(f'F-Value: {f_value}, Critical F-Value: {critical_f}, P-Value: {p_value}')\n"
   ]
  },
  {
   "cell_type": "markdown",
   "metadata": {},
   "source": [
    "Q9. The following data represent the test scores of two groups of students: Group A: 80, 85, 90, 92, 87, 83;\n",
    "Group B: 75, 78, 82, 79, 81, 84. Conduct an F-test at the 1% significance level to determine if the variances\n",
    "are significantly different."
   ]
  },
  {
   "cell_type": "code",
   "execution_count": 10,
   "metadata": {},
   "outputs": [
    {
     "name": "stdout",
     "output_type": "stream",
     "text": [
      "F-Value: 1.9442622950819677, Critical F-Value: 14.939605459912219, P-Value: 0.4831043549070688\n"
     ]
    }
   ],
   "source": [
    "group_A = np.array([80, 85, 90, 92, 87, 83])\n",
    "group_B = np.array([75, 78, 82, 79, 81, 84])\n",
    "\n",
    "f_value, df1, df2, p_value = f_test_for_equal_variances(group_A, group_B)\n",
    "\n",
    "alpha = 0.01\n",
    "critical_f = critical_f_value(alpha, df1, df2)\n",
    "\n",
    "print(f'F-Value: {f_value}, Critical F-Value: {critical_f}, P-Value: {p_value}')\n"
   ]
  }
 ],
 "metadata": {
  "kernelspec": {
   "display_name": "Python 3",
   "language": "python",
   "name": "python3"
  },
  "language_info": {
   "codemirror_mode": {
    "name": "ipython",
    "version": 3
   },
   "file_extension": ".py",
   "mimetype": "text/x-python",
   "name": "python",
   "nbconvert_exporter": "python",
   "pygments_lexer": "ipython3",
   "version": "3.11.7"
  }
 },
 "nbformat": 4,
 "nbformat_minor": 2
}
