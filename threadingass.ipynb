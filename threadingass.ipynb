{
 "cells": [
  {
   "cell_type": "code",
   "execution_count": 20,
   "id": "0d137c8b-c16e-4009-9d90-0f036c357fe2",
   "metadata": {},
   "outputs": [],
   "source": [
    "#1. what is multithreading in python? hy is it used? Name the module used to handle threads in python\n",
    "\"\"\"Multithreading is used for Running Multiple Threads at same time\n",
    "It is mainly used for running multiple threads and It allows for better utilization of available resources and enables tasks to run concurrently\"\"\"\n",
    "#module used is Threading\n",
    "import threading\n",
    "def test(num):\n",
    "        print(\"this is my num{}\".format(num))\n",
    "        "
   ]
  },
  {
   "cell_type": "code",
   "execution_count": 21,
   "id": "a03a60f9-b496-45e5-a954-1e85e991cbd6",
   "metadata": {},
   "outputs": [],
   "source": [
    "thread=[threading.Thread(target=test,args=(i,)) for i in [1,2,3,4,5,6,7,8]]"
   ]
  },
  {
   "cell_type": "code",
   "execution_count": 23,
   "id": "8951b5b0-2918-4d10-b6dd-d6df6dd1442e",
   "metadata": {},
   "outputs": [
    {
     "name": "stdout",
     "output_type": "stream",
     "text": [
      "this is my num1\n",
      "this is my num2\n",
      "this is my num3\n",
      "this is my num4\n",
      "this is my num5\n",
      "this is my num6\n",
      "this is my num7\n",
      "this is my num8\n"
     ]
    }
   ],
   "source": [
    "for t in thread:\n",
    "    t.start()"
   ]
  },
  {
   "cell_type": "markdown",
   "id": "8a60b4bb-a4dd-4deb-a941-045d6ae783d6",
   "metadata": {},
   "source": [
    "2.why threading module used? rite the use of the following functions\n",
    "1. activeCount()\n",
    " 2.currentThread()\n",
    " 3.enumerate()"
   ]
  },
  {
   "cell_type": "code",
   "execution_count": 24,
   "id": "82f65dad-b4a6-4c2e-a39f-c70d5793c2d8",
   "metadata": {},
   "outputs": [
    {
     "name": "stdout",
     "output_type": "stream",
     "text": [
      "Number of active threads: 8\n"
     ]
    },
    {
     "name": "stderr",
     "output_type": "stream",
     "text": [
      "/tmp/ipykernel_913/527497786.py:3: DeprecationWarning: activeCount() is deprecated, use active_count() instead\n",
      "  print(\"Number of active threads:\", threading.activeCount())\n"
     ]
    }
   ],
   "source": [
    "import threading\n",
    "\n",
    "print(\"Number of active threads:\", threading.activeCount())\n"
   ]
  },
  {
   "cell_type": "code",
   "execution_count": 25,
   "id": "4783214e-c3fd-482f-be24-98688dd0e7b5",
   "metadata": {},
   "outputs": [
    {
     "name": "stdout",
     "output_type": "stream",
     "text": [
      "Current thread name: MainThread\n"
     ]
    },
    {
     "name": "stderr",
     "output_type": "stream",
     "text": [
      "/tmp/ipykernel_913/434714352.py:1: DeprecationWarning: currentThread() is deprecated, use current_thread() instead\n",
      "  current_thread = threading.currentThread()\n"
     ]
    }
   ],
   "source": [
    "current_thread = threading.currentThread()\n",
    "print(\"Current thread name:\",  current_thread.name)"
   ]
  },
  {
   "cell_type": "code",
   "execution_count": 26,
   "id": "71fb4868-cf8e-4e0c-85f6-cffd16f6a4a1",
   "metadata": {},
   "outputs": [
    {
     "name": "stdout",
     "output_type": "stream",
     "text": [
      "Thread name: MainThread\n",
      "Thread name: IOPub\n",
      "Thread name: Heartbeat\n",
      "Thread name: Thread-3 (_watch_pipe_fd)\n",
      "Thread name: Thread-4 (_watch_pipe_fd)\n",
      "Thread name: Control\n",
      "Thread name: IPythonHistorySavingThread\n",
      "Thread name: Thread-2\n"
     ]
    }
   ],
   "source": [
    "import threading\n",
    "\n",
    "all_threads = threading.enumerate()\n",
    "for thread in all_threads:\n",
    "    print(\"Thread name:\", thread.name)\n"
   ]
  },
  {
   "cell_type": "markdown",
   "id": "841d28d2-1b04-42e9-b48d-473c319b9f45",
   "metadata": {},
   "source": [
    "3. Explain the following functions\n",
    "1 .run\n",
    " 2.start\n",
    " 3.join\n",
    " 4.isAlive)"
   ]
  },
  {
   "cell_type": "code",
   "execution_count": 2,
   "id": "fbda2c4e-b7fc-4511-8113-f8f224bb7d0a",
   "metadata": {},
   "outputs": [
    {
     "name": "stdout",
     "output_type": "stream",
     "text": [
      "this is my num1\n",
      "this is my num2\n",
      "this is my num3\n",
      "this is my num4\n",
      "this is my num5\n",
      "this is my num6\n",
      "this is my num7\n",
      "this is my num8\n"
     ]
    }
   ],
   "source": [
    "#Run\n",
    "#When the thread's start() method is called, it internally calls the run() method to execute the thread's task.\n",
    "#start\n",
    "#The start() method of the Thread class is used to initiate the execution of a thread\n",
    "\n",
    "import threading\n",
    "def test(num):\n",
    "        print(\"this is my num{}\".format(num))\n",
    "thread=[threading.Thread(target=test,args=(i,)) for i in [1,2,3,4,5,6,7,8]]\n",
    "for t in thread:\n",
    "    t.start()\n",
    "        "
   ]
  },
  {
   "cell_type": "code",
   "execution_count": 4,
   "id": "7af03436-7e75-40f4-96db-edcbecc29875",
   "metadata": {},
   "outputs": [
    {
     "name": "stdout",
     "output_type": "stream",
     "text": [
      "Thread task\n",
      "This is excuted after threads\n"
     ]
    }
   ],
   "source": [
    "#The join() method of the Thread class is used to wait for the thread to finish its execution before proceeding with the rest of the program\n",
    "import threading\n",
    "\n",
    "def join_func():\n",
    "    print(\"Thread task\")\n",
    "\n",
    "thread = threading.Thread(target=join_func)\n",
    "thread.start()\n",
    "\n",
    "\n",
    "thread.join()\n",
    "\n",
    "print(\"This is excuted after threads\")\n"
   ]
  },
  {
   "cell_type": "code",
   "execution_count": 17,
   "id": "30f246ea-ed69-4f8e-95a5-1922994f8b51",
   "metadata": {},
   "outputs": [
    {
     "name": "stdout",
     "output_type": "stream",
     "text": [
      "Thread task\n",
      "Is thread alive? False\n"
     ]
    }
   ],
   "source": [
    "import threading\n",
    "\n",
    "def worker_function():\n",
    "    print(\"Thread task\")\n",
    "\n",
    "thread1 = threading.Thread(target=worker_function)\n",
    "thread1.start()\n",
    "thread.join()\n",
    "print(\"Is thread alive?\", thread1.is_alive())\n"
   ]
  },
  {
   "cell_type": "markdown",
   "id": "2e0022f6-1519-48e7-bd9c-a589e59d7302",
   "metadata": {},
   "source": [
    "4. write a python program to create two threads. Thread one must print the list of squares and thread\n",
    "two must print the list of cubes"
   ]
  },
  {
   "cell_type": "code",
   "execution_count": 57,
   "id": "8b169c3f-0385-407a-84d8-71ec6324ff53",
   "metadata": {},
   "outputs": [],
   "source": [
    "def squares(num):\n",
    "     for i in num:\n",
    "        print(\"the power is{}\".format( i**2))\n",
    "def cube(num):\n",
    "    for i in num:\n",
    "        print(\"the cubes is {}\".format(i**3))\n",
    "numbers=[1,2,3,4]\n",
    "thread1 = threading.Thread(target=squares, args=(numbers,))\n",
    "thread2 = threading.Thread(target=cube, args=(numbers,))\n"
   ]
  },
  {
   "cell_type": "code",
   "execution_count": 58,
   "id": "2fdc9a05-b039-4f7c-a22b-2ddadfa05ce5",
   "metadata": {},
   "outputs": [
    {
     "name": "stdout",
     "output_type": "stream",
     "text": [
      "the power is1\n",
      "the power is4\n",
      "the power is9\n",
      "the power is16\n",
      "the cubes is 1\n",
      "the cubes is 8\n",
      "the cubes is 27\n",
      "the cubes is 64\n"
     ]
    }
   ],
   "source": [
    "thread1.start()\n",
    "thread2.start()"
   ]
  },
  {
   "cell_type": "markdown",
   "id": "d34eeed6-1674-44e0-bd37-6e1c8aa33a3a",
   "metadata": {},
   "source": [
    "5. State advantages and disadvantages of multithreading\n"
   ]
  },
  {
   "cell_type": "code",
   "execution_count": null,
   "id": "228e1da1-1c32-4dfa-9bdd-3754e6769c05",
   "metadata": {},
   "outputs": [],
   "source": [
    "#advantagesz:\n",
    "\"\"\"1.mutliple tasks or threads can be started\n",
    "   2.faster execution\n",
    "   3.simple to code\"\"\"\n",
    "#disadvantages\n",
    "\"\"\"1.more complex\n",
    "    2.Debugging Difficulty\n",
    "    3."
   ]
  }
 ],
 "metadata": {
  "kernelspec": {
   "display_name": "Python 3 (ipykernel)",
   "language": "python",
   "name": "python3"
  },
  "language_info": {
   "codemirror_mode": {
    "name": "ipython",
    "version": 3
   },
   "file_extension": ".py",
   "mimetype": "text/x-python",
   "name": "python",
   "nbconvert_exporter": "python",
   "pygments_lexer": "ipython3",
   "version": "3.10.8"
  }
 },
 "nbformat": 4,
 "nbformat_minor": 5
}
