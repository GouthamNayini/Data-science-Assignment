{
 "cells": [
  {
   "cell_type": "code",
   "execution_count": 1,
   "id": "6a2def69-9099-4e2f-addb-9f69709a55fb",
   "metadata": {},
   "outputs": [
    {
     "name": "stdout",
     "output_type": "stream",
     "text": [
      "\n"
     ]
    }
   ],
   "source": [
    "#Q1. What is an Exception in python and  Write the difference between Exceptions and syntax errors\n",
    "\"\"\"\n",
    "Exceptions are raised during the execution of a program or runtime of program \n",
    "when an error or unexpected situation occurs\n",
    "syntax errors:\n",
    "these occurs when the it doesnt follow the syntax rules\"\"\"\n",
    "print('')"
   ]
  },
  {
   "cell_type": "code",
   "execution_count": 2,
   "id": "0aae71ad-3eeb-4935-b920-48ff5bdefd91",
   "metadata": {},
   "outputs": [
    {
     "ename": "ZeroDivisionError",
     "evalue": "division by zero",
     "output_type": "error",
     "traceback": [
      "\u001b[0;31m---------------------------------------------------------------------------\u001b[0m",
      "\u001b[0;31mZeroDivisionError\u001b[0m                         Traceback (most recent call last)",
      "Cell \u001b[0;32mIn[2], line 3\u001b[0m\n\u001b[1;32m      1\u001b[0m \u001b[38;5;66;03m#Q2. What happens whenan exception is not handled and  Explain with an example\u001b[39;00m\n\u001b[1;32m      2\u001b[0m \u001b[38;5;124;03m\"\"\" when the program excepption is not handled then it terminates the program while executing\"\"\"\u001b[39;00m\n\u001b[0;32m----> 3\u001b[0m a\u001b[38;5;241m=\u001b[39m\u001b[38;5;241;43m10\u001b[39;49m\u001b[38;5;241;43m/\u001b[39;49m\u001b[38;5;241;43m0\u001b[39;49m\n\u001b[1;32m      4\u001b[0m a\n",
      "\u001b[0;31mZeroDivisionError\u001b[0m: division by zero"
     ]
    }
   ],
   "source": [
    "#Q2. What happens whenan exception is not handled and  Explain with an example\n",
    "\"\"\" when the program excepption is not handled then it terminates the program while executing\"\"\"\n",
    "a=10/0\n",
    "a"
   ]
  },
  {
   "cell_type": "code",
   "execution_count": 7,
   "id": "a3fb6678-e49e-44fe-8c3b-e1e6ffc689a1",
   "metadata": {},
   "outputs": [
    {
     "name": "stdout",
     "output_type": "stream",
     "text": [
      "division by zero\n"
     ]
    }
   ],
   "source": [
    "#Q3. Which Python statements are used to catch and handle exceptions and Explain with an example\u001e",
    "\n",
    "#try and except key words are used to handle the exceptions in python the example is\n",
    "try:\n",
    "   a= 10/0\n",
    "except ZeroDivisionError as e :\n",
    "    print(e)"
   ]
  },
  {
   "cell_type": "code",
   "execution_count": 8,
   "id": "545da6ca-6987-409e-957d-c9590bc63366",
   "metadata": {},
   "outputs": [
    {
     "name": "stdout",
     "output_type": "stream",
     "text": [
      "division by zero\n",
      "this is excuted\n"
     ]
    }
   ],
   "source": [
    "\"\"\"Q4. Explain with an example:\n",
    "\n",
    "1.try and else\n",
    "2.finally\n",
    "3.raise\"\"\"\n",
    "#try\n",
    "#try is used to catch the exception\n",
    "#else is used if no exception is found \n",
    "# finally is used the statement excutes regardeless of an exception\n",
    "#raise is used to finf an exception in our own  custom exception\n",
    "try:\n",
    "    a=20/0\n",
    "except ZeroDivisionError as e:\n",
    "    print(e)\n",
    "finally:\n",
    "    print(\"this is excuted\")"
   ]
  },
  {
   "cell_type": "code",
   "execution_count": 3,
   "id": "d6cddf6a-3e8c-480b-a26f-717876faa387",
   "metadata": {},
   "outputs": [
    {
     "name": "stdout",
     "output_type": "stream",
     "text": [
      "Division result: 2.0\n",
      "Error: Cannot divide by zero.\n"
     ]
    }
   ],
   "source": [
    "def divide_numbers(a, b):\n",
    "    if b == 0:\n",
    "        raise ZeroDivisionError(\"Cannot divide by zero.\")\n",
    "    return a / b\n",
    "\n",
    "try:\n",
    "    result = divide_numbers(10, 5)\n",
    "    print(\"Division result:\", result)\n",
    "    divide_numbers(10, 0)\n",
    "except ZeroDivisionError as e:\n",
    "    print(\"Error:\", e)\n",
    "\n"
   ]
  },
  {
   "cell_type": "code",
   "execution_count": 7,
   "id": "07f9a333-34ca-45b0-b660-36c7f557940b",
   "metadata": {},
   "outputs": [
    {
     "name": "stdin",
     "output_type": "stream",
     "text": [
      "enter marks of student of a subject -12\n"
     ]
    },
    {
     "name": "stdout",
     "output_type": "stream",
     "text": [
      "marks always greater than zero\n"
     ]
    }
   ],
   "source": [
    "#Q5. What are Custom Exceptions in python and why do we need Custom Exceptions and  Explain with an example\n",
    "\"\"\" custom exceptions which user defined build in exceptions that inherits properties of exception class\n",
    "custom exceptions are used for better handling of program and giving an perfect error message\"\"\"\n",
    "class validate_marks(Exception):\n",
    "    def __init__(self,msg):\n",
    "        self.msg=msg\n",
    "def marksinfo(marks):\n",
    "    if marks<0:\n",
    "        raise validate_marks(\"marks always greater than zero\")\n",
    "    elif marks>100:\n",
    "        raise validate_marks(\"marks are greater than 100\")\n",
    "    else:\n",
    "        print(\"marks are valid\",marks) \n",
    "try:\n",
    "    marks=int(input(\"enter marks of student of a subject\"))\n",
    "    marksinfo(marks)\n",
    "except validate_marks as e:\n",
    "    print(e)"
   ]
  },
  {
   "cell_type": "code",
   "execution_count": 12,
   "id": "bc5a3f28-1b2b-4016-bbb5-1216536add8f",
   "metadata": {},
   "outputs": [
    {
     "name": "stdin",
     "output_type": "stream",
     "text": [
      "enterr your body temperature 21\n"
     ]
    },
    {
     "name": "stdout",
     "output_type": "stream",
     "text": [
      "please maintain your body temperature it is very low\n"
     ]
    }
   ],
   "source": [
    "#Q6. Create custom exception class. Use this class to handle an exception.\n",
    "class temperature_error(Exception):\n",
    "    def __init__(self,msg):\n",
    "        self.msg=msg\n",
    "def temperature(degrees):\n",
    "    if degrees<35:\n",
    "        raise temperature_error(\"please maintain your body temperature it is very low\")\n",
    "    elif degrees>37:\n",
    "        raise temperature_error(\"please maintain your body temperature it is very high\")\n",
    "    else:\n",
    "        print(\"normal\",degrees) \n",
    "try:\n",
    "\n",
    "    degrees=int(input(\"enterr your body temperature\"))\n",
    "    temperature(degrees)\n",
    "except temperature_error as e:\n",
    "    print(e)"
   ]
  },
  {
   "cell_type": "code",
   "execution_count": null,
   "id": "6cf9a4f2-6b34-45f1-9a07-bbf0b645ec86",
   "metadata": {},
   "outputs": [],
   "source": []
  }
 ],
 "metadata": {
  "kernelspec": {
   "display_name": "Python 3 (ipykernel)",
   "language": "python",
   "name": "python3"
  },
  "language_info": {
   "codemirror_mode": {
    "name": "ipython",
    "version": 3
   },
   "file_extension": ".py",
   "mimetype": "text/x-python",
   "name": "python",
   "nbconvert_exporter": "python",
   "pygments_lexer": "ipython3",
   "version": "3.10.8"
  }
 },
 "nbformat": 4,
 "nbformat_minor": 5
}
